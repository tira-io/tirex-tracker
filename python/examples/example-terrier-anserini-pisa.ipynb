{
 "cells": [
  {
   "cell_type": "markdown",
   "id": "734dc5d4",
   "metadata": {},
   "source": [
    "# Example: Measure Indexing and Retrieval Effectiveness of Terrier, Anserini, and PISA"
   ]
  },
  {
   "cell_type": "markdown",
   "id": "d28fa78b",
   "metadata": {},
   "source": [
    "## Imports"
   ]
  },
  {
   "cell_type": "code",
   "execution_count": null,
   "id": "42f43c03",
   "metadata": {},
   "outputs": [],
   "source": [
    "from itertools import islice\n",
    "from json import loads\n",
    "from pathlib import Path\n",
    "from shutil import rmtree\n",
    "\n",
    "from ir_measures import nDCG\n",
    "from pandas import DataFrame, concat\n",
    "from pyterrier import Indexer, IterDictIndexer, IndexRef, Experiment\n",
    "from pyterrier_anserini import AnseriniIndexer, AnseriniIndex, AnseriniRetriever\n",
    "from pyterrier.datasets import get_dataset\n",
    "from pyterrier.terrier import Retriever\n",
    "from pyterrier_pisa import PisaIndexer, PisaIndex, PisaRetrieve\n",
    "from seaborn import FacetGrid, lineplot\n",
    "\n",
    "from tirex_tracker import tracking, TrackingHandle, Measure\n",
    "from tirex_tracker.pyterrier import TrackedTransformer"
   ]
  },
  {
   "cell_type": "markdown",
   "id": "f4f8baef",
   "metadata": {},
   "source": [
    "## Data"
   ]
  },
  {
   "cell_type": "markdown",
   "id": "81f5ee14",
   "metadata": {},
   "source": [
    "Load the dataset from `ir_datasets`."
   ]
  },
  {
   "cell_type": "code",
   "execution_count": null,
   "id": "e8580515",
   "metadata": {},
   "outputs": [],
   "source": [
    "dataset = get_dataset(\"irds:antique/test\")"
   ]
  },
  {
   "cell_type": "markdown",
   "id": "4df03897",
   "metadata": {},
   "source": [
    "Show some documents."
   ]
  },
  {
   "cell_type": "code",
   "execution_count": null,
   "id": "e4e2e37e",
   "metadata": {},
   "outputs": [],
   "source": [
    "list(islice(dataset.get_corpus_iter(), 5))"
   ]
  },
  {
   "cell_type": "markdown",
   "id": "5cb80b13",
   "metadata": {},
   "source": [
    "Show the topics."
   ]
  },
  {
   "cell_type": "code",
   "execution_count": null,
   "id": "8519cce7",
   "metadata": {},
   "outputs": [],
   "source": [
    "dataset.get_topics()"
   ]
  },
  {
   "cell_type": "markdown",
   "id": "f4d8050f",
   "metadata": {},
   "source": [
    "Show the qrels."
   ]
  },
  {
   "cell_type": "code",
   "execution_count": null,
   "id": "5ab051ed",
   "metadata": {},
   "outputs": [],
   "source": [
    "dataset.get_qrels()"
   ]
  },
  {
   "cell_type": "markdown",
   "id": "dcb26808",
   "metadata": {},
   "source": [
    "## Indexing"
   ]
  },
  {
   "cell_type": "markdown",
   "id": "979257c1",
   "metadata": {},
   "source": [
    "We will consume the document iterator once to warm the document cache, so that the indexers are not slowed down by document downloads."
   ]
  },
  {
   "cell_type": "code",
   "execution_count": null,
   "id": "151bb946",
   "metadata": {},
   "outputs": [],
   "source": [
    "for _ in dataset.get_corpus_iter():\n",
    "    pass"
   ]
  },
  {
   "cell_type": "markdown",
   "id": "9a6dbd66",
   "metadata": {},
   "source": [
    "### Terrier Indexing"
   ]
  },
  {
   "cell_type": "code",
   "execution_count": null,
   "id": "4bdced75",
   "metadata": {},
   "outputs": [],
   "source": [
    "terrier_index_path = Path(\"./index-terrier\").resolve()\n",
    "print(str(terrier_index_path))\n",
    "if terrier_index_path.exists():\n",
    "    rmtree(terrier_index_path)\n",
    "terrier_indexer = IterDictIndexer(str(terrier_index_path))\n",
    "\n",
    "with tracking() as terrier_indexing_tracking_results:\n",
    "    terrier_index: IndexRef = terrier_indexer.index(dataset.get_corpus_iter()) # type: ignore"
   ]
  },
  {
   "cell_type": "markdown",
   "id": "46e0a61b",
   "metadata": {},
   "source": [
    "### Anserini Indexing"
   ]
  },
  {
   "cell_type": "code",
   "execution_count": null,
   "id": "b58d62dd",
   "metadata": {},
   "outputs": [],
   "source": [
    "anserini_index_path = Path(\"./index-anserini\").resolve()\n",
    "if anserini_index_path.exists():\n",
    "    rmtree(anserini_index_path)\n",
    "anserini_indexer: Indexer = AnseriniIndexer(str(anserini_index_path))\n",
    "\n",
    "with tracking() as anserini_indexing_tracking_results:\n",
    "    anserini_index: AnseriniIndex = anserini_indexer.index(dataset.get_corpus_iter())"
   ]
  },
  {
   "cell_type": "markdown",
   "id": "28ca4ffa",
   "metadata": {},
   "source": [
    "### PISA Indexing"
   ]
  },
  {
   "cell_type": "code",
   "execution_count": null,
   "id": "cf20dcaa",
   "metadata": {},
   "outputs": [],
   "source": [
    "pisa_index_path = Path(\"./index-pisa\").resolve()\n",
    "if pisa_index_path.exists():\n",
    "    rmtree(pisa_index_path)\n",
    "pisa_indexer = PisaIndexer(str(pisa_index_path))\n",
    "with tracking() as pisa_indexing_tracking_results:\n",
    "    pisa_index: PisaIndex = pisa_indexer.index(dataset.get_corpus_iter())"
   ]
  },
  {
   "cell_type": "markdown",
   "id": "7f2ba54e",
   "metadata": {},
   "source": [
    "### Results"
   ]
  },
  {
   "cell_type": "code",
   "execution_count": null,
   "id": "a5fc2d9c",
   "metadata": {},
   "outputs": [],
   "source": [
    "def tracking_results_to_df(\n",
    "    tracking_results: TrackingHandle, measure: Measure\n",
    ") -> DataFrame:\n",
    "    measure_results = tracking_results[measure]\n",
    "    print(f\"Tracking results for {measure}: {measure_results}\")\n",
    "    measure_value = loads(measure_results.value)\n",
    "    print(f\"Tracking results for {measure}: {measure_value}\")\n",
    "    return DataFrame()"
   ]
  },
  {
   "cell_type": "code",
   "execution_count": null,
   "id": "a818869f",
   "metadata": {},
   "outputs": [],
   "source": [
    "df_indexing = concat([\n",
    "    tracking_results_to_df(tracking_results, measure)\n",
    "    for tracking_results in [\n",
    "        terrier_indexing_tracking_results,\n",
    "        anserini_indexing_tracking_results,\n",
    "        pisa_indexing_tracking_results,\n",
    "    ]\n",
    "    for measure in [\n",
    "        Measure.CPU_USED_PROCESS_PERCENT,\n",
    "        Measure.CPU_USED_SYSTEM_PERCENT,\n",
    "        Measure.RAM_USED_PROCESS_KB,\n",
    "        Measure.RAM_USED_SYSTEM_MB,\n",
    "    ]\n",
    "])"
   ]
  },
  {
   "cell_type": "markdown",
   "id": "6727498d",
   "metadata": {},
   "source": [
    "## Retrieval"
   ]
  },
  {
   "cell_type": "markdown",
   "id": "9740b2b7",
   "metadata": {},
   "source": [
    "Create the BM25 retrievers for Terrier, Anserini, and PISA. Then wrap the retrievers with `TrackedTransformer` to track their execution."
   ]
  },
  {
   "cell_type": "code",
   "execution_count": null,
   "id": "ac2ff3a9",
   "metadata": {},
   "outputs": [],
   "source": [
    "terrier_bm25 = TrackedTransformer(Retriever(terrier_index, wmodel=\"BM25\"))\n",
    "anserini_bm25: AnseriniRetriever = TrackedTransformer(anserini_index.bm25())\n",
    "pisa_bm25: PisaRetrieve = TrackedTransformer(pisa_index.bm25())"
   ]
  },
  {
   "cell_type": "markdown",
   "id": "3d20eb76",
   "metadata": {},
   "source": [
    "## Experiment"
   ]
  },
  {
   "cell_type": "code",
   "execution_count": null,
   "id": "37801067",
   "metadata": {},
   "outputs": [],
   "source": [
    "results = Experiment(\n",
    "    retr_systems=[\n",
    "        terrier_bm25,\n",
    "        anserini_bm25,\n",
    "        pisa_bm25,\n",
    "    ],\n",
    "    topics=dataset.get_topics()[:3],\n",
    "    qrels=dataset.get_qrels(),\n",
    "    eval_metrics=[nDCG @ 10, nDCG @ 5],\n",
    "    names=[\n",
    "        \"Terrier BM25\",\n",
    "        \"Anserini BM25\",\n",
    "        \"PISA BM25\",\n",
    "    ],\n",
    "    perquery=True,\n",
    ")\n",
    "results"
   ]
  },
  {
   "cell_type": "code",
   "execution_count": null,
   "id": "de3ec89b",
   "metadata": {},
   "outputs": [],
   "source": [
    "def tracking_results_to_df(tracking_results: TrackingHandle):\n",
    "    return DataFrame(\n",
    "        {\n",
    "            \"name\": tracking_results.name,\n",
    "            \"time\": tracking_results.time,\n",
    "            \"type\": tracking_results.type,\n",
    "            \"value\": tracking_results.value,\n",
    "        }\n",
    "    )"
   ]
  }
 ],
 "metadata": {
  "kernelspec": {
   "display_name": ".venv3.11",
   "language": "python",
   "name": "python3"
  },
  "language_info": {
   "codemirror_mode": {
    "name": "ipython",
    "version": 3
   },
   "file_extension": ".py",
   "mimetype": "text/x-python",
   "name": "python",
   "nbconvert_exporter": "python",
   "pygments_lexer": "ipython3",
   "version": "3.11.13"
  }
 },
 "nbformat": 4,
 "nbformat_minor": 5
}
