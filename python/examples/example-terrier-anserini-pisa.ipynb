{
 "cells": [
  {
   "cell_type": "markdown",
   "id": "734dc5d4",
   "metadata": {},
   "source": [
    "# Example: Measure Indexing and Retrieval Effectiveness of Terrier, Anserini, and PISA"
   ]
  },
  {
   "cell_type": "markdown",
   "id": "d28fa78b",
   "metadata": {},
   "source": [
    "## Imports"
   ]
  },
  {
   "cell_type": "code",
   "execution_count": null,
   "id": "42f43c03",
   "metadata": {},
   "outputs": [],
   "source": [
    "from datetime import timedelta\n",
    "from itertools import islice\n",
    "from json import loads\n",
    "from pathlib import Path\n",
    "from shutil import rmtree\n",
    "\n",
    "from ir_measures import nDCG\n",
    "from pandas import DataFrame, concat\n",
    "from pyterrier import Experiment, Indexer, IndexRef, IterDictIndexer\n",
    "from pyterrier.datasets import get_dataset\n",
    "from pyterrier.terrier import Retriever\n",
    "from pyterrier_anserini import AnseriniIndex, AnseriniIndexer, AnseriniRetriever\n",
    "from pyterrier_pisa import PisaIndex, PisaIndexer, PisaRetrieve\n",
    "from seaborn import FacetGrid, barplot, lineplot\n",
    "\n",
    "from tirex_tracker import Measure, TrackingHandle, tracking\n",
    "from tirex_tracker.pyterrier import TrackedTransformer\n"
   ]
  },
  {
   "cell_type": "markdown",
   "id": "f4f8baef",
   "metadata": {},
   "source": [
    "## Data"
   ]
  },
  {
   "cell_type": "markdown",
   "id": "81f5ee14",
   "metadata": {},
   "source": [
    "Load the dataset from `ir_datasets`."
   ]
  },
  {
   "cell_type": "code",
   "execution_count": 2,
   "id": "e8580515",
   "metadata": {},
   "outputs": [],
   "source": [
    "dataset = get_dataset(\"irds:antique/test\")"
   ]
  },
  {
   "cell_type": "markdown",
   "id": "4df03897",
   "metadata": {},
   "source": [
    "Show some documents."
   ]
  },
  {
   "cell_type": "code",
   "execution_count": 3,
   "id": "e4e2e37e",
   "metadata": {},
   "outputs": [
    {
     "name": "stderr",
     "output_type": "stream",
     "text": [
      "antique/test documents:   0%|          | 4/403666 [00:00<00:31, 12614.45it/s]\n"
     ]
    },
    {
     "data": {
      "text/plain": [
       "[{'text': \"A small group of politicians believed strongly that the fact that Saddam Hussien remained in power after the first Gulf War was a signal of weakness to the rest of the world, one that invited attacks and terrorism. Shortly after taking power with George Bush in 2000 and after the attack on 9/11, they were able to use the terrorist attacks to justify war with Iraq on this basis and exaggerated threats of the development of weapons of mass destruction. The military strength of the U.S. and the brutality of Saddam's regime led them to imagine that the military and political victory would be relatively easy.\",\n",
       "  'docno': '2020338_0'},\n",
       " {'text': 'Because there is a lot of oil in Iraq.', 'docno': '2020338_1'},\n",
       " {'text': 'It is tempting to say that the US invaded Iraq because it has lots of oil, but the US is not a country in a deep economic problem that capturing other country’s oil is an actual need for survival. It is more likely that the Iraq invading Kuwait scenario would fall under that assumption.. I think that the US government has come to a conclusion that we are on the verge of a war of religions, or more likely ideologies. It would be presumptuous to try and determent a one cause to the coming war. . I think that the world wide spread of the media with its many forms (Cable, Satellite, Internet, etc.)  have pushed the Moslem regimes to the extreme, fearing that secularity and democratic influence is penetrating their country and will result in an up raising against them. One of the best way to maintain the power that you have and even gain more of it, is by hatred. When the common man is occupied hating an outside enemy, its hatred is kept out side the county and would not be directed towards the regime. . So- I believe that the US understands that the fanatic Moslem regimes have already started a war on the democratic world and now is the time to try a fight it.. . So why invade Iraq? Because it is a huge, week Moslem country that thought to be easy to defeat. . This is exactly the same reason why Afghanistan was first and Syria is next in line.',\n",
       "  'docno': '2020338_2'},\n",
       " {'text': 'I think Yuval is pretty spot on. It\\'s a proving ground and a focal point for terror activity that\\'s not on American soil. And, because no one liked Saddam Hussein, no other countries (even in the Middle East) were about to rise up and join his side.. . Rabid speculation: now the Pentagon has a model that says it takes ~5 years, ~$200B and ~2,000 casualties to \"rebuild\" a dictatorship into a democracy. Who\\'s next on the list?',\n",
       "  'docno': '2020338_3'},\n",
       " {'text': 'Call an area apiarist.  They should be able to help you and would most likely remove them at no charge in exchange for the hive.  The bees have value and they now belong to you.',\n",
       "  'docno': '2874684_0'}]"
      ]
     },
     "execution_count": 3,
     "metadata": {},
     "output_type": "execute_result"
    }
   ],
   "source": [
    "list(islice(dataset.get_corpus_iter(), 5))"
   ]
  },
  {
   "cell_type": "markdown",
   "id": "5cb80b13",
   "metadata": {},
   "source": [
    "Show the topics."
   ]
  },
  {
   "cell_type": "code",
   "execution_count": 4,
   "id": "8519cce7",
   "metadata": {},
   "outputs": [
    {
     "name": "stderr",
     "output_type": "stream",
     "text": [
      "Java started (triggered by _pt_tokeniser) and loaded: pyterrier.java, pyterrier.terrier.java [version=5.11 (build: craig.macdonald 2025-01-13 21:29), helper_version=0.0.8], pyterrier_anserini.java [version=0.39.0 (from pyserini package)]\n"
     ]
    },
    {
     "data": {
      "application/vnd.microsoft.datawrangler.viewer.v0+json": {
       "columns": [
        {
         "name": "index",
         "rawType": "int64",
         "type": "integer"
        },
        {
         "name": "qid",
         "rawType": "object",
         "type": "string"
        },
        {
         "name": "query",
         "rawType": "object",
         "type": "string"
        }
       ],
       "ref": "10b178de-cf7c-44e6-884a-7a34d67a9a8c",
       "rows": [
        [
         "0",
         "3990512",
         "how can we get concentration onsomething"
        ],
        [
         "1",
         "714612",
         "why doesn t the water fall off earth if it s round"
        ],
        [
         "2",
         "2528767",
         "how do i determine the charge of the iron ion in fecl3"
        ],
        [
         "3",
         "821387",
         "i have mice how do i get rid of them humanely"
        ],
        [
         "4",
         "1880028",
         "what does see leaflet mean on ept pregnancy test"
        ],
        [
         "5",
         "4448097",
         "what is innate immunity"
        ],
        [
         "6",
         "1287437",
         "how can i lose 30 pounds by june3"
        ],
        [
         "7",
         "2956570",
         "what are the words to write the sound of raindrops moving train scribbling w pencil on paper figuratively"
        ],
        [
         "8",
         "1351675",
         "why must i have an uncracked winshield in order to for my car to pass a safety inspeciton"
        ],
        [
         "9",
         "1783010",
         "what is blaphsemy"
        ],
        [
         "10",
         "2799913",
         "what s the proper way to express sorrow at a funeral"
        ],
        [
         "11",
         "2142044",
         "what do you speculate happened to natalie holloway in aruba"
        ],
        [
         "12",
         "707303",
         "how do people get hiccups what are they and what exactly is the best way to cure them"
        ],
        [
         "13",
         "676028",
         "why do our elected federal senators and congressmen not have to live on regular s s like the rest of us"
        ],
        [
         "14",
         "2484180",
         "why do people judge a dog by what he looks like"
        ],
        [
         "15",
         "2307305",
         "why do man rape little girls"
        ],
        [
         "16",
         "2814599",
         "what does the word remission mean when referring to cancer patients"
        ],
        [
         "17",
         "3369088",
         "how can we stop the spread of islam"
        ],
        [
         "18",
         "1702151",
         "how patient a driver are you"
        ],
        [
         "19",
         "851124",
         "how is ego a part of our survival instincts"
        ],
        [
         "20",
         "3698636",
         "why do cats headbutt"
        ],
        [
         "21",
         "1844896",
         "how to cook angus burgers"
        ],
        [
         "22",
         "2290758",
         "why do people ask questions they know"
        ],
        [
         "23",
         "143833",
         "what is the difference between coolant and anti freeze"
        ],
        [
         "24",
         "3910925",
         "why is yawning contagious"
        ],
        [
         "25",
         "2643507",
         "why does milk cost more than gas per gallon"
        ],
        [
         "26",
         "1502604",
         "how do crooks make fake passports"
        ],
        [
         "27",
         "4283542",
         "i have had loose stools for a week how do i make it stop"
        ],
        [
         "28",
         "3554263",
         "why some people behave so rude without reason is it due to their own problem"
        ],
        [
         "29",
         "3313308",
         "how can i enjoy my time alone"
        ],
        [
         "30",
         "4357460",
         "how to make my car faster"
        ],
        [
         "31",
         "2582920",
         "what is the difference in a dried plum and a dried prune"
        ],
        [
         "32",
         "4462511",
         "how do i know if my gold fish is pregnant"
        ],
        [
         "33",
         "2795030",
         "why do people drink cuervo when it tastes the same going down as coming up"
        ],
        [
         "34",
         "312215",
         "how good is apple pie when it is cold"
        ],
        [
         "35",
         "3363149",
         "why do arabs and mexicans look alike"
        ],
        [
         "36",
         "1944018",
         "why can t teenagers vote"
        ],
        [
         "37",
         "788976",
         "why did the bush admin cover up 9 11"
        ],
        [
         "38",
         "4385316",
         "how do i keep black birds out of my bar b que grill"
        ],
        [
         "39",
         "551239",
         "how do i find out if someone left me a life insurance policy"
        ],
        [
         "40",
         "3499881",
         "why is gordon ramsey so popular"
        ],
        [
         "41",
         "4311093",
         "why hot air rises up"
        ],
        [
         "42",
         "4256593",
         "how do i remove the simm card on a lg vx8300 cell phone"
        ],
        [
         "43",
         "1017690",
         "what is the history of indian music"
        ],
        [
         "44",
         "667488",
         "how soon can you drive on a newly paved driveway"
        ],
        [
         "45",
         "3507491",
         "why is religious freedom more important today"
        ],
        [
         "46",
         "2634143",
         "what is direct borrowing phonological borrowing linguistic borrowing cultural borrowing intimate borrowing"
        ],
        [
         "47",
         "3396066",
         "why do airplanes fly so high"
        ],
        [
         "48",
         "2892478",
         "what factors cause the earth to heat unevenly"
        ],
        [
         "49",
         "3155314",
         "we have pork chops veal chops lamb chops why is there not any beef chops"
        ]
       ],
       "shape": {
        "columns": 2,
        "rows": 200
       }
      },
      "text/html": [
       "<div>\n",
       "<style scoped>\n",
       "    .dataframe tbody tr th:only-of-type {\n",
       "        vertical-align: middle;\n",
       "    }\n",
       "\n",
       "    .dataframe tbody tr th {\n",
       "        vertical-align: top;\n",
       "    }\n",
       "\n",
       "    .dataframe thead th {\n",
       "        text-align: right;\n",
       "    }\n",
       "</style>\n",
       "<table border=\"1\" class=\"dataframe\">\n",
       "  <thead>\n",
       "    <tr style=\"text-align: right;\">\n",
       "      <th></th>\n",
       "      <th>qid</th>\n",
       "      <th>query</th>\n",
       "    </tr>\n",
       "  </thead>\n",
       "  <tbody>\n",
       "    <tr>\n",
       "      <th>0</th>\n",
       "      <td>3990512</td>\n",
       "      <td>how can we get concentration onsomething</td>\n",
       "    </tr>\n",
       "    <tr>\n",
       "      <th>1</th>\n",
       "      <td>714612</td>\n",
       "      <td>why doesn t the water fall off earth if it s r...</td>\n",
       "    </tr>\n",
       "    <tr>\n",
       "      <th>2</th>\n",
       "      <td>2528767</td>\n",
       "      <td>how do i determine the charge of the iron ion ...</td>\n",
       "    </tr>\n",
       "    <tr>\n",
       "      <th>3</th>\n",
       "      <td>821387</td>\n",
       "      <td>i have mice how do i get rid of them humanely</td>\n",
       "    </tr>\n",
       "    <tr>\n",
       "      <th>4</th>\n",
       "      <td>1880028</td>\n",
       "      <td>what does see leaflet mean on ept pregnancy test</td>\n",
       "    </tr>\n",
       "    <tr>\n",
       "      <th>...</th>\n",
       "      <td>...</td>\n",
       "      <td>...</td>\n",
       "    </tr>\n",
       "    <tr>\n",
       "      <th>195</th>\n",
       "      <td>2192891</td>\n",
       "      <td>how are braces put on and do they hurt a lot</td>\n",
       "    </tr>\n",
       "    <tr>\n",
       "      <th>196</th>\n",
       "      <td>4406669</td>\n",
       "      <td>what do you order at taco bell</td>\n",
       "    </tr>\n",
       "    <tr>\n",
       "      <th>197</th>\n",
       "      <td>1582877</td>\n",
       "      <td>why do we go to school if in the real world we...</td>\n",
       "    </tr>\n",
       "    <tr>\n",
       "      <th>198</th>\n",
       "      <td>1340574</td>\n",
       "      <td>why do some people only go to church on easter...</td>\n",
       "    </tr>\n",
       "    <tr>\n",
       "      <th>199</th>\n",
       "      <td>1971899</td>\n",
       "      <td>what is masturbat</td>\n",
       "    </tr>\n",
       "  </tbody>\n",
       "</table>\n",
       "<p>200 rows × 2 columns</p>\n",
       "</div>"
      ],
      "text/plain": [
       "         qid                                              query\n",
       "0    3990512           how can we get concentration onsomething\n",
       "1     714612  why doesn t the water fall off earth if it s r...\n",
       "2    2528767  how do i determine the charge of the iron ion ...\n",
       "3     821387      i have mice how do i get rid of them humanely\n",
       "4    1880028   what does see leaflet mean on ept pregnancy test\n",
       "..       ...                                                ...\n",
       "195  2192891       how are braces put on and do they hurt a lot\n",
       "196  4406669                     what do you order at taco bell\n",
       "197  1582877  why do we go to school if in the real world we...\n",
       "198  1340574  why do some people only go to church on easter...\n",
       "199  1971899                                  what is masturbat\n",
       "\n",
       "[200 rows x 2 columns]"
      ]
     },
     "execution_count": 4,
     "metadata": {},
     "output_type": "execute_result"
    }
   ],
   "source": [
    "dataset.get_topics()"
   ]
  },
  {
   "cell_type": "markdown",
   "id": "f4d8050f",
   "metadata": {},
   "source": [
    "Show the qrels."
   ]
  },
  {
   "cell_type": "code",
   "execution_count": 5,
   "id": "5ab051ed",
   "metadata": {},
   "outputs": [
    {
     "data": {
      "application/vnd.microsoft.datawrangler.viewer.v0+json": {
       "columns": [
        {
         "name": "index",
         "rawType": "int64",
         "type": "integer"
        },
        {
         "name": "qid",
         "rawType": "object",
         "type": "string"
        },
        {
         "name": "docno",
         "rawType": "object",
         "type": "string"
        },
        {
         "name": "label",
         "rawType": "int64",
         "type": "integer"
        },
        {
         "name": "iteration",
         "rawType": "object",
         "type": "string"
        }
       ],
       "ref": "ada91769-f694-4aef-9007-6e891972928c",
       "rows": [
        [
         "0",
         "1964316",
         "1964316_5",
         "4",
         "U0"
        ],
        [
         "1",
         "1964316",
         "1674088_11",
         "1",
         "Q0"
        ],
        [
         "2",
         "1964316",
         "1218838_13",
         "2",
         "Q0"
        ],
        [
         "3",
         "1964316",
         "1519022_15",
         "2",
         "Q0"
        ],
        [
         "4",
         "1964316",
         "3059341_5",
         "2",
         "Q0"
        ],
        [
         "5",
         "1964316",
         "4126855_1",
         "2",
         "Q0"
        ],
        [
         "6",
         "1964316",
         "2434719_9",
         "2",
         "Q0"
        ],
        [
         "7",
         "1964316",
         "3786452_1",
         "2",
         "Q0"
        ],
        [
         "8",
         "1964316",
         "1964316_3",
         "4",
         "Q0"
        ],
        [
         "9",
         "1964316",
         "1964316_2",
         "4",
         "Q0"
        ],
        [
         "10",
         "1964316",
         "767911_0",
         "2",
         "Q0"
        ],
        [
         "11",
         "1964316",
         "1964316_0",
         "4",
         "Q0"
        ],
        [
         "12",
         "1964316",
         "1964316_1",
         "3",
         "Q0"
        ],
        [
         "13",
         "1964316",
         "1964316_4",
         "3",
         "Q0"
        ],
        [
         "14",
         "1964316",
         "1248144_1",
         "2",
         "Q0"
        ],
        [
         "15",
         "1964316",
         "2768257_0",
         "2",
         "Q0"
        ],
        [
         "16",
         "1964316",
         "1519022_3",
         "2",
         "Q0"
        ],
        [
         "17",
         "1964316",
         "2245059_0",
         "2",
         "Q0"
        ],
        [
         "18",
         "1964316",
         "1013722_5",
         "2",
         "Q0"
        ],
        [
         "19",
         "1964316",
         "650233_14",
         "2",
         "Q0"
        ],
        [
         "20",
         "1964316",
         "2305171_0",
         "2",
         "Q0"
        ],
        [
         "21",
         "1964316",
         "3435824_3",
         "2",
         "Q0"
        ],
        [
         "22",
         "1964316",
         "636973_2",
         "1",
         "Q0"
        ],
        [
         "23",
         "1964316",
         "1724160_7",
         "2",
         "Q0"
        ],
        [
         "24",
         "1964316",
         "3592532_6",
         "2",
         "Q0"
        ],
        [
         "25",
         "1964316",
         "636973_1",
         "1",
         "Q0"
        ],
        [
         "26",
         "1964316",
         "1148987_10",
         "2",
         "Q0"
        ],
        [
         "27",
         "1964316",
         "2787567_1",
         "2",
         "Q0"
        ],
        [
         "28",
         "1964316",
         "647686_0",
         "2",
         "Q0"
        ],
        [
         "29",
         "1964316",
         "369616_4",
         "4",
         "Q0"
        ],
        [
         "30",
         "1964316",
         "1759521_19",
         "3",
         "Q0"
        ],
        [
         "31",
         "1964316",
         "2929011_0",
         "4",
         "Q0"
        ],
        [
         "32",
         "1964316",
         "1810312_4",
         "2",
         "Q0"
        ],
        [
         "33",
         "2418598",
         "2418598_0",
         "4",
         "U0"
        ],
        [
         "34",
         "2418598",
         "2418598_9",
         "4",
         "Q0"
        ],
        [
         "35",
         "2418598",
         "537603_10",
         "1",
         "Q0"
        ],
        [
         "36",
         "2418598",
         "2418598_8",
         "3",
         "Q0"
        ],
        [
         "37",
         "2418598",
         "2418598_1",
         "3",
         "Q0"
        ],
        [
         "38",
         "2418598",
         "884445_5",
         "3",
         "E0"
        ],
        [
         "39",
         "2418598",
         "2418598_3",
         "4",
         "Q0"
        ],
        [
         "40",
         "2418598",
         "2418598_2",
         "3",
         "Q0"
        ],
        [
         "41",
         "2418598",
         "2418598_5",
         "3",
         "Q0"
        ],
        [
         "42",
         "2418598",
         "2418598_4",
         "3",
         "Q0"
        ],
        [
         "43",
         "2418598",
         "2418598_7",
         "2",
         "E0"
        ],
        [
         "44",
         "2418598",
         "2418598_6",
         "3",
         "Q0"
        ],
        [
         "45",
         "2418598",
         "2750015_9",
         "1",
         "Q0"
        ],
        [
         "46",
         "2418598",
         "1409655_12",
         "1",
         "Q0"
        ],
        [
         "47",
         "2418598",
         "3886208_3",
         "1",
         "Q0"
        ],
        [
         "48",
         "2418598",
         "3634394_7",
         "2",
         "Q0"
        ],
        [
         "49",
         "2418598",
         "502093_2",
         "1",
         "E0"
        ]
       ],
       "shape": {
        "columns": 4,
        "rows": 6589
       }
      },
      "text/html": [
       "<div>\n",
       "<style scoped>\n",
       "    .dataframe tbody tr th:only-of-type {\n",
       "        vertical-align: middle;\n",
       "    }\n",
       "\n",
       "    .dataframe tbody tr th {\n",
       "        vertical-align: top;\n",
       "    }\n",
       "\n",
       "    .dataframe thead th {\n",
       "        text-align: right;\n",
       "    }\n",
       "</style>\n",
       "<table border=\"1\" class=\"dataframe\">\n",
       "  <thead>\n",
       "    <tr style=\"text-align: right;\">\n",
       "      <th></th>\n",
       "      <th>qid</th>\n",
       "      <th>docno</th>\n",
       "      <th>label</th>\n",
       "      <th>iteration</th>\n",
       "    </tr>\n",
       "  </thead>\n",
       "  <tbody>\n",
       "    <tr>\n",
       "      <th>0</th>\n",
       "      <td>1964316</td>\n",
       "      <td>1964316_5</td>\n",
       "      <td>4</td>\n",
       "      <td>U0</td>\n",
       "    </tr>\n",
       "    <tr>\n",
       "      <th>1</th>\n",
       "      <td>1964316</td>\n",
       "      <td>1674088_11</td>\n",
       "      <td>1</td>\n",
       "      <td>Q0</td>\n",
       "    </tr>\n",
       "    <tr>\n",
       "      <th>2</th>\n",
       "      <td>1964316</td>\n",
       "      <td>1218838_13</td>\n",
       "      <td>2</td>\n",
       "      <td>Q0</td>\n",
       "    </tr>\n",
       "    <tr>\n",
       "      <th>3</th>\n",
       "      <td>1964316</td>\n",
       "      <td>1519022_15</td>\n",
       "      <td>2</td>\n",
       "      <td>Q0</td>\n",
       "    </tr>\n",
       "    <tr>\n",
       "      <th>4</th>\n",
       "      <td>1964316</td>\n",
       "      <td>3059341_5</td>\n",
       "      <td>2</td>\n",
       "      <td>Q0</td>\n",
       "    </tr>\n",
       "    <tr>\n",
       "      <th>...</th>\n",
       "      <td>...</td>\n",
       "      <td>...</td>\n",
       "      <td>...</td>\n",
       "      <td>...</td>\n",
       "    </tr>\n",
       "    <tr>\n",
       "      <th>6584</th>\n",
       "      <td>1262692</td>\n",
       "      <td>247023_6</td>\n",
       "      <td>3</td>\n",
       "      <td>Q0</td>\n",
       "    </tr>\n",
       "    <tr>\n",
       "      <th>6585</th>\n",
       "      <td>1262692</td>\n",
       "      <td>1499030_5</td>\n",
       "      <td>3</td>\n",
       "      <td>Q0</td>\n",
       "    </tr>\n",
       "    <tr>\n",
       "      <th>6586</th>\n",
       "      <td>1262692</td>\n",
       "      <td>2916758_0</td>\n",
       "      <td>3</td>\n",
       "      <td>Q0</td>\n",
       "    </tr>\n",
       "    <tr>\n",
       "      <th>6587</th>\n",
       "      <td>1262692</td>\n",
       "      <td>1105845_15</td>\n",
       "      <td>3</td>\n",
       "      <td>Q0</td>\n",
       "    </tr>\n",
       "    <tr>\n",
       "      <th>6588</th>\n",
       "      <td>1262692</td>\n",
       "      <td>3699008_1</td>\n",
       "      <td>2</td>\n",
       "      <td>Q0</td>\n",
       "    </tr>\n",
       "  </tbody>\n",
       "</table>\n",
       "<p>6589 rows × 4 columns</p>\n",
       "</div>"
      ],
      "text/plain": [
       "          qid       docno  label iteration\n",
       "0     1964316   1964316_5      4        U0\n",
       "1     1964316  1674088_11      1        Q0\n",
       "2     1964316  1218838_13      2        Q0\n",
       "3     1964316  1519022_15      2        Q0\n",
       "4     1964316   3059341_5      2        Q0\n",
       "...       ...         ...    ...       ...\n",
       "6584  1262692    247023_6      3        Q0\n",
       "6585  1262692   1499030_5      3        Q0\n",
       "6586  1262692   2916758_0      3        Q0\n",
       "6587  1262692  1105845_15      3        Q0\n",
       "6588  1262692   3699008_1      2        Q0\n",
       "\n",
       "[6589 rows x 4 columns]"
      ]
     },
     "execution_count": 5,
     "metadata": {},
     "output_type": "execute_result"
    }
   ],
   "source": [
    "dataset.get_qrels()"
   ]
  },
  {
   "cell_type": "markdown",
   "id": "dcb26808",
   "metadata": {},
   "source": [
    "## Indexing"
   ]
  },
  {
   "cell_type": "markdown",
   "id": "979257c1",
   "metadata": {},
   "source": [
    "We will consume the document iterator once to warm the document cache, so that the indexers are not slowed down by document downloads."
   ]
  },
  {
   "cell_type": "code",
   "execution_count": 6,
   "id": "151bb946",
   "metadata": {},
   "outputs": [
    {
     "name": "stderr",
     "output_type": "stream",
     "text": [
      "antique/test documents: 100%|██████████| 403666/403666 [00:00<00:00, 475175.26it/s]\n"
     ]
    }
   ],
   "source": [
    "for _ in dataset.get_corpus_iter():\n",
    "    pass"
   ]
  },
  {
   "cell_type": "markdown",
   "id": "9a6dbd66",
   "metadata": {},
   "source": [
    "### Terrier Indexing"
   ]
  },
  {
   "cell_type": "code",
   "execution_count": 7,
   "id": "4bdced75",
   "metadata": {},
   "outputs": [
    {
     "name": "stderr",
     "output_type": "stream",
     "text": [
      "\n",
      "=====  Processor information  =====\n",
      "Linux arch_perfmon flag  : yes\n",
      "Hybrid processor         : no\n",
      "IBRS and IBPB supported  : yes\n",
      "STIBP supported          : yes\n",
      "Spec arch caps supported : yes\n",
      "Max CPUID level          : 27\n",
      "CPU model number         : 140\n",
      "PCM Error: can't open MSR handle for core 0 (No such file or directory)\n",
      "Try no-MSR mode by setting env variable PCM_NO_MSR=1\n",
      "Can not access CPUs Model Specific Registers (MSRs).\n",
      "execute 'modprobe msr' as root user, then execute pcm as root user.\n"
     ]
    },
    {
     "name": "stdout",
     "output_type": "stream",
     "text": [
      "/home/heinrich/Repositories/tirex-tracker/python/examples/index-terrier\n",
      "Give read access to /sys/class/powercap/intel-rapl/intel-rapl:1/energy_uj\n"
     ]
    },
    {
     "name": "stderr",
     "output_type": "stream",
     "text": [
      "antique/test documents:   0%|          | 222/403666 [00:00<04:50, 1388.53it/s]"
     ]
    },
    {
     "name": "stdout",
     "output_type": "stream",
     "text": [
      "15:19:27.112 [ForkJoinPool-1-worker-1] WARN org.terrier.structures.indexing.Indexer -- Adding an empty document to the index (730691_1) - further warnings are suppressed\n"
     ]
    },
    {
     "name": "stderr",
     "output_type": "stream",
     "text": [
      "antique/test documents: 100%|██████████| 403666/403666 [00:14<00:00, 27942.16it/s]\n"
     ]
    },
    {
     "name": "stdout",
     "output_type": "stream",
     "text": [
      "15:19:44.113 [ForkJoinPool-1-worker-1] WARN org.terrier.structures.indexing.Indexer -- Indexed 2224 empty documents\n",
      "Give read access to /sys/class/powercap/intel-rapl/intel-rapl:1/energy_uj\n"
     ]
    }
   ],
   "source": [
    "terrier_index_path = Path(\"./index-terrier\").resolve()\n",
    "print(str(terrier_index_path))\n",
    "if terrier_index_path.exists():\n",
    "    rmtree(terrier_index_path)\n",
    "terrier_indexer = IterDictIndexer(str(terrier_index_path))\n",
    "\n",
    "with tracking() as terrier_indexing_tracking_results:\n",
    "    terrier_index: IndexRef = terrier_indexer.index(dataset.get_corpus_iter()) # type: ignore"
   ]
  },
  {
   "cell_type": "markdown",
   "id": "46e0a61b",
   "metadata": {},
   "source": [
    "### Anserini Indexing"
   ]
  },
  {
   "cell_type": "code",
   "execution_count": 8,
   "id": "b58d62dd",
   "metadata": {},
   "outputs": [
    {
     "name": "stdout",
     "output_type": "stream",
     "text": [
      "Give read access to /sys/class/powercap/intel-rapl/intel-rapl:1/energy_uj\n"
     ]
    },
    {
     "name": "stderr",
     "output_type": "stream",
     "text": [
      "antique/test documents:   0%|          | 0/403666 [00:00<?, ?it/s]"
     ]
    },
    {
     "name": "stdout",
     "output_type": "stream",
     "text": [
      "2025-06-11 15:19:44,439 INFO  [main] index.SimpleIndexer (SimpleIndexer.java:138) - Using DefaultEnglishAnalyzer\n",
      "2025-06-11 15:19:44,444 INFO  [main] index.SimpleIndexer (SimpleIndexer.java:139) - Stemmer: porter\n",
      "2025-06-11 15:19:44,447 INFO  [main] index.SimpleIndexer (SimpleIndexer.java:140) - Keep stopwords? false\n",
      "2025-06-11 15:19:44,450 INFO  [main] index.SimpleIndexer (SimpleIndexer.java:141) - Stopwords file: null\n"
     ]
    },
    {
     "name": "stderr",
     "output_type": "stream",
     "text": [
      "Jun 11, 2025 3:19:44 PM org.apache.lucene.store.MemorySegmentIndexInputProvider <init>\n",
      "INFO: Using MemorySegmentIndexInput with Java 21; to disable start with -Dorg.apache.lucene.store.MMapDirectory.enableMemorySegments=false\n",
      "antique/test documents: 100%|██████████| 403666/403666 [00:23<00:00, 17217.69it/s]\n"
     ]
    },
    {
     "name": "stdout",
     "output_type": "stream",
     "text": [
      "Give read access to /sys/class/powercap/intel-rapl/intel-rapl:1/energy_uj\n"
     ]
    }
   ],
   "source": [
    "anserini_index_path = Path(\"./index-anserini\").resolve()\n",
    "if anserini_index_path.exists():\n",
    "    rmtree(anserini_index_path)\n",
    "anserini_indexer: Indexer = AnseriniIndexer(str(anserini_index_path))\n",
    "\n",
    "with tracking() as anserini_indexing_tracking_results:\n",
    "    anserini_index: AnseriniIndex = anserini_indexer.index(dataset.get_corpus_iter())"
   ]
  },
  {
   "cell_type": "markdown",
   "id": "28ca4ffa",
   "metadata": {},
   "source": [
    "### PISA Indexing"
   ]
  },
  {
   "cell_type": "code",
   "execution_count": 9,
   "id": "cf20dcaa",
   "metadata": {},
   "outputs": [
    {
     "name": "stdout",
     "output_type": "stream",
     "text": [
      "Give read access to /sys/class/powercap/intel-rapl/intel-rapl:1/energy_uj\n"
     ]
    },
    {
     "name": "stderr",
     "output_type": "stream",
     "text": [
      "antique/test documents:  87%|████████▋ | 352490/403666 [00:03<00:01, 44007.52it/s] "
     ]
    },
    {
     "name": "stdout",
     "output_type": "stream",
     "text": [
      "[2025-06-11 15:20:13.325] [info] [Batch 0] Processed documents [0, 100000)\n"
     ]
    },
    {
     "name": "stderr",
     "output_type": "stream",
     "text": [
      "antique/test documents: 100%|██████████| 403666/403666 [00:06<00:00, 59555.53it/s]"
     ]
    },
    {
     "name": "stdout",
     "output_type": "stream",
     "text": [
      "[2025-06-11 15:20:16.460] [info] [Batch 1] Processed documents [100000, 200000)\n"
     ]
    },
    {
     "name": "stderr",
     "output_type": "stream",
     "text": [
      "\n"
     ]
    },
    {
     "name": "stdout",
     "output_type": "stream",
     "text": [
      "[2025-06-11 15:20:19.497] [info] [Batch 2] Processed documents [200000, 300000)\n",
      "[2025-06-11 15:20:19.645] [info] [Batch 4] Processed documents [400000, 403666)\n",
      "[2025-06-11 15:20:22.663] [info] [Batch 3] Processed documents [300000, 400000)\n",
      "[2025-06-11 15:20:22.685] [info] Merging titles\n",
      "[2025-06-11 15:20:22.687] [info] Creating document lexicon\n",
      "[2025-06-11 15:20:22.717] [info] Merging URLs\n",
      "[2025-06-11 15:20:22.718] [info] Collecting terms\n",
      "[2025-06-11 15:20:22.807] [info] Writing terms\n",
      "[2025-06-11 15:20:22.825] [info] Mapping terms\n",
      "[2025-06-11 15:20:22.850] [info] Remapping IDs\n",
      "[2025-06-11 15:20:23.036] [info] Concatenating batches\n",
      "[2025-06-11 15:20:23.097] [info] Success.\n",
      "[2025-06-11 15:20:23.108] [info] Inverting [0, 100000)\n",
      "[2025-06-11 15:20:23.576] [info] Inverting [100000, 200000)\n",
      "[2025-06-11 15:20:24.067] [info] Inverting [200000, 300000)\n",
      "[2025-06-11 15:20:24.623] [info] Inverting [300000, 400000)\n",
      "[2025-06-11 15:20:25.172] [info] Inverting [400000, 403666)\n",
      "[2025-06-11 15:20:25.296] [info] Number of terms: 139560\n",
      "[2025-06-11 15:20:25.296] [info] Number of documents: 403666\n",
      "[2025-06-11 15:20:25.296] [info] Number of postings: 11597092\n",
      "Give read access to /sys/class/powercap/intel-rapl/intel-rapl:1/energy_uj\n"
     ]
    }
   ],
   "source": [
    "pisa_index_path = Path(\"./index-pisa\").resolve()\n",
    "if pisa_index_path.exists():\n",
    "    rmtree(pisa_index_path)\n",
    "pisa_indexer = PisaIndexer(str(pisa_index_path))\n",
    "with tracking() as pisa_indexing_tracking_results:\n",
    "    pisa_index: PisaIndex = pisa_indexer.index(dataset.get_corpus_iter())"
   ]
  },
  {
   "cell_type": "markdown",
   "id": "7f2ba54e",
   "metadata": {},
   "source": [
    "### Results"
   ]
  },
  {
   "cell_type": "code",
   "execution_count": 17,
   "id": "a5fc2d9c",
   "metadata": {},
   "outputs": [],
   "source": [
    "def tracking_results_to_df(\n",
    "    tracking_results: TrackingHandle, measure: Measure\n",
    ") -> DataFrame:\n",
    "    measure_results = tracking_results[measure]\n",
    "    measure_value = loads(measure_results.value)\n",
    "    df = (\n",
    "        DataFrame(measure_value[\"timeseries\"])\n",
    "        .rename(\n",
    "            columns={\n",
    "                \"timestamps\": \"timestamp\",\n",
    "                \"values\": \"value\",\n",
    "            }\n",
    "        )\n",
    "        .assign(\n",
    "            measure=measure.name,\n",
    "            max_value=measure_value[\"max\"],\n",
    "            min_value=measure_value[\"min\"],\n",
    "        )\n",
    "    )\n",
    "    df[\"timestamp\"] = df[\"timestamp\"].astype(\"timedelta64[ms]\")\n",
    "    return df"
   ]
  },
  {
   "cell_type": "code",
   "execution_count": 18,
   "id": "a818869f",
   "metadata": {},
   "outputs": [
    {
     "data": {
      "application/vnd.microsoft.datawrangler.viewer.v0+json": {
       "columns": [
        {
         "name": "index",
         "rawType": "int64",
         "type": "integer"
        },
        {
         "name": "timestamp",
         "rawType": "timedelta64[ms]",
         "type": "unknown"
        },
        {
         "name": "value",
         "rawType": "int64",
         "type": "integer"
        },
        {
         "name": "measure",
         "rawType": "object",
         "type": "string"
        },
        {
         "name": "max_value",
         "rawType": "int64",
         "type": "integer"
        },
        {
         "name": "min_value",
         "rawType": "int64",
         "type": "integer"
        },
        {
         "name": "name",
         "rawType": "object",
         "type": "string"
        }
       ],
       "ref": "3d6dea20-50f9-4a80-9504-f52181f99762",
       "rows": [
        [
         "0",
         "0 days 00:00:00",
         "0",
         "CPU_USED_PROCESS_PERCENT",
         "254",
         "0",
         "Terrier"
        ],
        [
         "1",
         "0 days 00:00:00.100000",
         "150",
         "CPU_USED_PROCESS_PERCENT",
         "254",
         "0",
         "Terrier"
        ],
        [
         "2",
         "0 days 00:00:00.200000",
         "54",
         "CPU_USED_PROCESS_PERCENT",
         "254",
         "0",
         "Terrier"
        ],
        [
         "3",
         "0 days 00:00:00.301000",
         "204",
         "CPU_USED_PROCESS_PERCENT",
         "254",
         "0",
         "Terrier"
        ],
        [
         "4",
         "0 days 00:00:00.401000",
         "184",
         "CPU_USED_PROCESS_PERCENT",
         "254",
         "0",
         "Terrier"
        ],
        [
         "5",
         "0 days 00:00:00.501000",
         "224",
         "CPU_USED_PROCESS_PERCENT",
         "254",
         "0",
         "Terrier"
        ],
        [
         "6",
         "0 days 00:00:00.602000",
         "224",
         "CPU_USED_PROCESS_PERCENT",
         "254",
         "0",
         "Terrier"
        ],
        [
         "7",
         "0 days 00:00:00.702000",
         "254",
         "CPU_USED_PROCESS_PERCENT",
         "254",
         "0",
         "Terrier"
        ],
        [
         "8",
         "0 days 00:00:00.802000",
         "174",
         "CPU_USED_PROCESS_PERCENT",
         "254",
         "0",
         "Terrier"
        ],
        [
         "9",
         "0 days 00:00:00.902000",
         "214",
         "CPU_USED_PROCESS_PERCENT",
         "254",
         "0",
         "Terrier"
        ],
        [
         "10",
         "0 days 00:00:01.003000",
         "184",
         "CPU_USED_PROCESS_PERCENT",
         "254",
         "0",
         "Terrier"
        ],
        [
         "11",
         "0 days 00:00:01.103000",
         "164",
         "CPU_USED_PROCESS_PERCENT",
         "254",
         "0",
         "Terrier"
        ],
        [
         "12",
         "0 days 00:00:01.203000",
         "114",
         "CPU_USED_PROCESS_PERCENT",
         "254",
         "0",
         "Terrier"
        ],
        [
         "13",
         "0 days 00:00:01.304000",
         "154",
         "CPU_USED_PROCESS_PERCENT",
         "254",
         "0",
         "Terrier"
        ],
        [
         "14",
         "0 days 00:00:01.404000",
         "184",
         "CPU_USED_PROCESS_PERCENT",
         "254",
         "0",
         "Terrier"
        ],
        [
         "15",
         "0 days 00:00:01.504000",
         "234",
         "CPU_USED_PROCESS_PERCENT",
         "254",
         "0",
         "Terrier"
        ],
        [
         "16",
         "0 days 00:00:01.604000",
         "184",
         "CPU_USED_PROCESS_PERCENT",
         "254",
         "0",
         "Terrier"
        ],
        [
         "17",
         "0 days 00:00:01.705000",
         "220",
         "CPU_USED_PROCESS_PERCENT",
         "254",
         "0",
         "Terrier"
        ],
        [
         "18",
         "0 days 00:00:01.805000",
         "4",
         "CPU_USED_PROCESS_PERCENT",
         "254",
         "0",
         "Terrier"
        ],
        [
         "19",
         "0 days 00:00:01.905000",
         "200",
         "CPU_USED_PROCESS_PERCENT",
         "254",
         "0",
         "Terrier"
        ],
        [
         "20",
         "0 days 00:00:02.005000",
         "140",
         "CPU_USED_PROCESS_PERCENT",
         "254",
         "0",
         "Terrier"
        ],
        [
         "21",
         "0 days 00:00:02.107000",
         "186",
         "CPU_USED_PROCESS_PERCENT",
         "254",
         "0",
         "Terrier"
        ],
        [
         "22",
         "0 days 00:00:02.207000",
         "160",
         "CPU_USED_PROCESS_PERCENT",
         "254",
         "0",
         "Terrier"
        ],
        [
         "23",
         "0 days 00:00:02.308000",
         "160",
         "CPU_USED_PROCESS_PERCENT",
         "254",
         "0",
         "Terrier"
        ],
        [
         "24",
         "0 days 00:00:02.408000",
         "140",
         "CPU_USED_PROCESS_PERCENT",
         "254",
         "0",
         "Terrier"
        ],
        [
         "25",
         "0 days 00:00:02.508000",
         "130",
         "CPU_USED_PROCESS_PERCENT",
         "254",
         "0",
         "Terrier"
        ],
        [
         "26",
         "0 days 00:00:02.608000",
         "250",
         "CPU_USED_PROCESS_PERCENT",
         "254",
         "0",
         "Terrier"
        ],
        [
         "27",
         "0 days 00:00:02.709000",
         "140",
         "CPU_USED_PROCESS_PERCENT",
         "254",
         "0",
         "Terrier"
        ],
        [
         "28",
         "0 days 00:00:02.809000",
         "140",
         "CPU_USED_PROCESS_PERCENT",
         "254",
         "0",
         "Terrier"
        ],
        [
         "29",
         "0 days 00:00:02.909000",
         "150",
         "CPU_USED_PROCESS_PERCENT",
         "254",
         "0",
         "Terrier"
        ],
        [
         "30",
         "0 days 00:00:03.009000",
         "140",
         "CPU_USED_PROCESS_PERCENT",
         "254",
         "0",
         "Terrier"
        ],
        [
         "31",
         "0 days 00:00:03.109000",
         "150",
         "CPU_USED_PROCESS_PERCENT",
         "254",
         "0",
         "Terrier"
        ],
        [
         "32",
         "0 days 00:00:03.210000",
         "130",
         "CPU_USED_PROCESS_PERCENT",
         "254",
         "0",
         "Terrier"
        ],
        [
         "33",
         "0 days 00:00:03.310000",
         "24",
         "CPU_USED_PROCESS_PERCENT",
         "254",
         "0",
         "Terrier"
        ],
        [
         "34",
         "0 days 00:00:03.410000",
         "130",
         "CPU_USED_PROCESS_PERCENT",
         "254",
         "0",
         "Terrier"
        ],
        [
         "35",
         "0 days 00:00:03.510000",
         "140",
         "CPU_USED_PROCESS_PERCENT",
         "254",
         "0",
         "Terrier"
        ],
        [
         "36",
         "0 days 00:00:03.611000",
         "150",
         "CPU_USED_PROCESS_PERCENT",
         "254",
         "0",
         "Terrier"
        ],
        [
         "37",
         "0 days 00:00:03.711000",
         "130",
         "CPU_USED_PROCESS_PERCENT",
         "254",
         "0",
         "Terrier"
        ],
        [
         "38",
         "0 days 00:00:03.811000",
         "150",
         "CPU_USED_PROCESS_PERCENT",
         "254",
         "0",
         "Terrier"
        ],
        [
         "39",
         "0 days 00:00:03.911000",
         "130",
         "CPU_USED_PROCESS_PERCENT",
         "254",
         "0",
         "Terrier"
        ],
        [
         "40",
         "0 days 00:00:04.011000",
         "140",
         "CPU_USED_PROCESS_PERCENT",
         "254",
         "0",
         "Terrier"
        ],
        [
         "41",
         "0 days 00:00:04.112000",
         "250",
         "CPU_USED_PROCESS_PERCENT",
         "254",
         "0",
         "Terrier"
        ],
        [
         "42",
         "0 days 00:00:04.212000",
         "140",
         "CPU_USED_PROCESS_PERCENT",
         "254",
         "0",
         "Terrier"
        ],
        [
         "43",
         "0 days 00:00:04.312000",
         "150",
         "CPU_USED_PROCESS_PERCENT",
         "254",
         "0",
         "Terrier"
        ],
        [
         "44",
         "0 days 00:00:04.412000",
         "140",
         "CPU_USED_PROCESS_PERCENT",
         "254",
         "0",
         "Terrier"
        ],
        [
         "45",
         "0 days 00:00:04.512000",
         "170",
         "CPU_USED_PROCESS_PERCENT",
         "254",
         "0",
         "Terrier"
        ],
        [
         "46",
         "0 days 00:00:04.613000",
         "230",
         "CPU_USED_PROCESS_PERCENT",
         "254",
         "0",
         "Terrier"
        ],
        [
         "47",
         "0 days 00:00:04.713000",
         "160",
         "CPU_USED_PROCESS_PERCENT",
         "254",
         "0",
         "Terrier"
        ],
        [
         "48",
         "0 days 00:00:04.813000",
         "150",
         "CPU_USED_PROCESS_PERCENT",
         "254",
         "0",
         "Terrier"
        ],
        [
         "49",
         "0 days 00:00:04.913000",
         "250",
         "CPU_USED_PROCESS_PERCENT",
         "254",
         "0",
         "Terrier"
        ]
       ],
       "shape": {
        "columns": 6,
        "rows": 2316
       }
      },
      "text/html": [
       "<div>\n",
       "<style scoped>\n",
       "    .dataframe tbody tr th:only-of-type {\n",
       "        vertical-align: middle;\n",
       "    }\n",
       "\n",
       "    .dataframe tbody tr th {\n",
       "        vertical-align: top;\n",
       "    }\n",
       "\n",
       "    .dataframe thead th {\n",
       "        text-align: right;\n",
       "    }\n",
       "</style>\n",
       "<table border=\"1\" class=\"dataframe\">\n",
       "  <thead>\n",
       "    <tr style=\"text-align: right;\">\n",
       "      <th></th>\n",
       "      <th>timestamp</th>\n",
       "      <th>value</th>\n",
       "      <th>measure</th>\n",
       "      <th>max_value</th>\n",
       "      <th>min_value</th>\n",
       "      <th>name</th>\n",
       "    </tr>\n",
       "  </thead>\n",
       "  <tbody>\n",
       "    <tr>\n",
       "      <th>0</th>\n",
       "      <td>0 days 00:00:00</td>\n",
       "      <td>0</td>\n",
       "      <td>CPU_USED_PROCESS_PERCENT</td>\n",
       "      <td>254</td>\n",
       "      <td>0</td>\n",
       "      <td>Terrier</td>\n",
       "    </tr>\n",
       "    <tr>\n",
       "      <th>1</th>\n",
       "      <td>0 days 00:00:00.100000</td>\n",
       "      <td>150</td>\n",
       "      <td>CPU_USED_PROCESS_PERCENT</td>\n",
       "      <td>254</td>\n",
       "      <td>0</td>\n",
       "      <td>Terrier</td>\n",
       "    </tr>\n",
       "    <tr>\n",
       "      <th>2</th>\n",
       "      <td>0 days 00:00:00.200000</td>\n",
       "      <td>54</td>\n",
       "      <td>CPU_USED_PROCESS_PERCENT</td>\n",
       "      <td>254</td>\n",
       "      <td>0</td>\n",
       "      <td>Terrier</td>\n",
       "    </tr>\n",
       "    <tr>\n",
       "      <th>3</th>\n",
       "      <td>0 days 00:00:00.301000</td>\n",
       "      <td>204</td>\n",
       "      <td>CPU_USED_PROCESS_PERCENT</td>\n",
       "      <td>254</td>\n",
       "      <td>0</td>\n",
       "      <td>Terrier</td>\n",
       "    </tr>\n",
       "    <tr>\n",
       "      <th>4</th>\n",
       "      <td>0 days 00:00:00.401000</td>\n",
       "      <td>184</td>\n",
       "      <td>CPU_USED_PROCESS_PERCENT</td>\n",
       "      <td>254</td>\n",
       "      <td>0</td>\n",
       "      <td>Terrier</td>\n",
       "    </tr>\n",
       "    <tr>\n",
       "      <th>...</th>\n",
       "      <td>...</td>\n",
       "      <td>...</td>\n",
       "      <td>...</td>\n",
       "      <td>...</td>\n",
       "      <td>...</td>\n",
       "      <td>...</td>\n",
       "    </tr>\n",
       "    <tr>\n",
       "      <th>151</th>\n",
       "      <td>0 days 00:00:15.136000</td>\n",
       "      <td>31547</td>\n",
       "      <td>RAM_USED_SYSTEM_MB</td>\n",
       "      <td>31569</td>\n",
       "      <td>0</td>\n",
       "      <td>PISA</td>\n",
       "    </tr>\n",
       "    <tr>\n",
       "      <th>152</th>\n",
       "      <td>0 days 00:00:15.236000</td>\n",
       "      <td>31560</td>\n",
       "      <td>RAM_USED_SYSTEM_MB</td>\n",
       "      <td>31569</td>\n",
       "      <td>0</td>\n",
       "      <td>PISA</td>\n",
       "    </tr>\n",
       "    <tr>\n",
       "      <th>153</th>\n",
       "      <td>0 days 00:00:15.336000</td>\n",
       "      <td>31569</td>\n",
       "      <td>RAM_USED_SYSTEM_MB</td>\n",
       "      <td>31569</td>\n",
       "      <td>0</td>\n",
       "      <td>PISA</td>\n",
       "    </tr>\n",
       "    <tr>\n",
       "      <th>154</th>\n",
       "      <td>0 days 00:00:15.436000</td>\n",
       "      <td>31548</td>\n",
       "      <td>RAM_USED_SYSTEM_MB</td>\n",
       "      <td>31569</td>\n",
       "      <td>0</td>\n",
       "      <td>PISA</td>\n",
       "    </tr>\n",
       "    <tr>\n",
       "      <th>155</th>\n",
       "      <td>0 days 00:00:15.537000</td>\n",
       "      <td>31529</td>\n",
       "      <td>RAM_USED_SYSTEM_MB</td>\n",
       "      <td>31569</td>\n",
       "      <td>0</td>\n",
       "      <td>PISA</td>\n",
       "    </tr>\n",
       "  </tbody>\n",
       "</table>\n",
       "<p>2316 rows × 6 columns</p>\n",
       "</div>"
      ],
      "text/plain": [
       "                 timestamp  value                   measure  max_value  \\\n",
       "0          0 days 00:00:00      0  CPU_USED_PROCESS_PERCENT        254   \n",
       "1   0 days 00:00:00.100000    150  CPU_USED_PROCESS_PERCENT        254   \n",
       "2   0 days 00:00:00.200000     54  CPU_USED_PROCESS_PERCENT        254   \n",
       "3   0 days 00:00:00.301000    204  CPU_USED_PROCESS_PERCENT        254   \n",
       "4   0 days 00:00:00.401000    184  CPU_USED_PROCESS_PERCENT        254   \n",
       "..                     ...    ...                       ...        ...   \n",
       "151 0 days 00:00:15.136000  31547        RAM_USED_SYSTEM_MB      31569   \n",
       "152 0 days 00:00:15.236000  31560        RAM_USED_SYSTEM_MB      31569   \n",
       "153 0 days 00:00:15.336000  31569        RAM_USED_SYSTEM_MB      31569   \n",
       "154 0 days 00:00:15.436000  31548        RAM_USED_SYSTEM_MB      31569   \n",
       "155 0 days 00:00:15.537000  31529        RAM_USED_SYSTEM_MB      31569   \n",
       "\n",
       "     min_value     name  \n",
       "0            0  Terrier  \n",
       "1            0  Terrier  \n",
       "2            0  Terrier  \n",
       "3            0  Terrier  \n",
       "4            0  Terrier  \n",
       "..         ...      ...  \n",
       "151          0     PISA  \n",
       "152          0     PISA  \n",
       "153          0     PISA  \n",
       "154          0     PISA  \n",
       "155          0     PISA  \n",
       "\n",
       "[2316 rows x 6 columns]"
      ]
     },
     "execution_count": 18,
     "metadata": {},
     "output_type": "execute_result"
    }
   ],
   "source": [
    "df_indexing = concat([\n",
    "    tracking_results_to_df(tracking_results, measure).assign(name=name)\n",
    "    for name, tracking_results in [\n",
    "        (\"Terrier\", terrier_indexing_tracking_results),\n",
    "        (\"Anserini\", anserini_indexing_tracking_results),\n",
    "        (\"PISA\", pisa_indexing_tracking_results),\n",
    "    ]\n",
    "    for measure in [\n",
    "        Measure.CPU_USED_PROCESS_PERCENT,\n",
    "        Measure.CPU_USED_SYSTEM_PERCENT,\n",
    "        Measure.RAM_USED_PROCESS_KB,\n",
    "        Measure.RAM_USED_SYSTEM_MB,\n",
    "    ]\n",
    "])\n",
    "df_indexing"
   ]
  },
  {
   "cell_type": "markdown",
   "id": "6727498d",
   "metadata": {},
   "source": [
    "## Retrieval"
   ]
  },
  {
   "cell_type": "markdown",
   "id": "9740b2b7",
   "metadata": {},
   "source": [
    "Create the BM25 retrievers for Terrier, Anserini, and PISA. Then wrap the retrievers with `TrackedTransformer` to track their execution."
   ]
  },
  {
   "cell_type": "code",
   "execution_count": 19,
   "id": "ac2ff3a9",
   "metadata": {},
   "outputs": [],
   "source": [
    "terrier_bm25 = TrackedTransformer(Retriever(terrier_index, wmodel=\"BM25\"))\n",
    "anserini_bm25: AnseriniRetriever = TrackedTransformer(anserini_index.bm25())\n",
    "pisa_bm25: PisaRetrieve = TrackedTransformer(pisa_index.bm25())"
   ]
  },
  {
   "cell_type": "markdown",
   "id": "3d20eb76",
   "metadata": {},
   "source": [
    "## Experiment"
   ]
  },
  {
   "cell_type": "code",
   "execution_count": 20,
   "id": "37801067",
   "metadata": {},
   "outputs": [
    {
     "name": "stdout",
     "output_type": "stream",
     "text": [
      "Give read access to /sys/class/powercap/intel-rapl/intel-rapl:1/energy_uj\n",
      "Give read access to /sys/class/powercap/intel-rapl/intel-rapl:1/energy_uj\n",
      "Give read access to /sys/class/powercap/intel-rapl/intel-rapl:1/energy_uj\n",
      "Give read access to /sys/class/powercap/intel-rapl/intel-rapl:1/energy_uj\n",
      "Give read access to /sys/class/powercap/intel-rapl/intel-rapl:1/energy_uj\n",
      "Give read access to /sys/class/powercap/intel-rapl/intel-rapl:1/energy_uj\n"
     ]
    },
    {
     "data": {
      "application/vnd.microsoft.datawrangler.viewer.v0+json": {
       "columns": [
        {
         "name": "index",
         "rawType": "int64",
         "type": "integer"
        },
        {
         "name": "name",
         "rawType": "object",
         "type": "string"
        },
        {
         "name": "qid",
         "rawType": "object",
         "type": "string"
        },
        {
         "name": "measure",
         "rawType": "object",
         "type": "string"
        },
        {
         "name": "value",
         "rawType": "float64",
         "type": "float"
        }
       ],
       "ref": "1f9e281f-0d3d-481e-b39d-f33c88ae6a08",
       "rows": [
        [
         "10",
         "Anserini BM25",
         "2528767",
         "nDCG@5",
         "0.946503433816368"
        ],
        [
         "11",
         "Anserini BM25",
         "2528767",
         "nDCG@10",
         "0.8059256891318768"
        ],
        [
         "6",
         "Anserini BM25",
         "3990512",
         "nDCG@5",
         "0.0"
        ],
        [
         "7",
         "Anserini BM25",
         "3990512",
         "nDCG@10",
         "0.041171872556604504"
        ],
        [
         "8",
         "Anserini BM25",
         "714612",
         "nDCG@5",
         "0.5087403079104241"
        ],
        [
         "9",
         "Anserini BM25",
         "714612",
         "nDCG@10",
         "0.4129777437028934"
        ],
        [
         "16",
         "PISA BM25",
         "2528767",
         "nDCG@5",
         "0.8687949224876582"
        ],
        [
         "17",
         "PISA BM25",
         "2528767",
         "nDCG@10",
         "0.76346389169781"
        ],
        [
         "12",
         "PISA BM25",
         "3990512",
         "nDCG@5",
         "0.06782736233947295"
        ],
        [
         "13",
         "PISA BM25",
         "3990512",
         "nDCG@10",
         "0.06563437371751137"
        ],
        [
         "14",
         "PISA BM25",
         "714612",
         "nDCG@5",
         "0.6250229568616719"
        ],
        [
         "15",
         "PISA BM25",
         "714612",
         "nDCG@10",
         "0.6020691603861964"
        ],
        [
         "4",
         "Terrier BM25",
         "2528767",
         "nDCG@5",
         "0.8824086793035105"
        ],
        [
         "5",
         "Terrier BM25",
         "2528767",
         "nDCG@10",
         "0.6681035171306078"
        ],
        [
         "0",
         "Terrier BM25",
         "3990512",
         "nDCG@5",
         "0.0"
        ],
        [
         "1",
         "Terrier BM25",
         "3990512",
         "nDCG@10",
         "0.0746688596785922"
        ],
        [
         "2",
         "Terrier BM25",
         "714612",
         "nDCG@5",
         "0.8978803737831526"
        ],
        [
         "3",
         "Terrier BM25",
         "714612",
         "nDCG@10",
         "0.6768253250058375"
        ]
       ],
       "shape": {
        "columns": 4,
        "rows": 18
       }
      },
      "text/html": [
       "<div>\n",
       "<style scoped>\n",
       "    .dataframe tbody tr th:only-of-type {\n",
       "        vertical-align: middle;\n",
       "    }\n",
       "\n",
       "    .dataframe tbody tr th {\n",
       "        vertical-align: top;\n",
       "    }\n",
       "\n",
       "    .dataframe thead th {\n",
       "        text-align: right;\n",
       "    }\n",
       "</style>\n",
       "<table border=\"1\" class=\"dataframe\">\n",
       "  <thead>\n",
       "    <tr style=\"text-align: right;\">\n",
       "      <th></th>\n",
       "      <th>name</th>\n",
       "      <th>qid</th>\n",
       "      <th>measure</th>\n",
       "      <th>value</th>\n",
       "    </tr>\n",
       "  </thead>\n",
       "  <tbody>\n",
       "    <tr>\n",
       "      <th>10</th>\n",
       "      <td>Anserini BM25</td>\n",
       "      <td>2528767</td>\n",
       "      <td>nDCG@5</td>\n",
       "      <td>0.946503</td>\n",
       "    </tr>\n",
       "    <tr>\n",
       "      <th>11</th>\n",
       "      <td>Anserini BM25</td>\n",
       "      <td>2528767</td>\n",
       "      <td>nDCG@10</td>\n",
       "      <td>0.805926</td>\n",
       "    </tr>\n",
       "    <tr>\n",
       "      <th>6</th>\n",
       "      <td>Anserini BM25</td>\n",
       "      <td>3990512</td>\n",
       "      <td>nDCG@5</td>\n",
       "      <td>0.000000</td>\n",
       "    </tr>\n",
       "    <tr>\n",
       "      <th>7</th>\n",
       "      <td>Anserini BM25</td>\n",
       "      <td>3990512</td>\n",
       "      <td>nDCG@10</td>\n",
       "      <td>0.041172</td>\n",
       "    </tr>\n",
       "    <tr>\n",
       "      <th>8</th>\n",
       "      <td>Anserini BM25</td>\n",
       "      <td>714612</td>\n",
       "      <td>nDCG@5</td>\n",
       "      <td>0.508740</td>\n",
       "    </tr>\n",
       "    <tr>\n",
       "      <th>9</th>\n",
       "      <td>Anserini BM25</td>\n",
       "      <td>714612</td>\n",
       "      <td>nDCG@10</td>\n",
       "      <td>0.412978</td>\n",
       "    </tr>\n",
       "    <tr>\n",
       "      <th>16</th>\n",
       "      <td>PISA BM25</td>\n",
       "      <td>2528767</td>\n",
       "      <td>nDCG@5</td>\n",
       "      <td>0.868795</td>\n",
       "    </tr>\n",
       "    <tr>\n",
       "      <th>17</th>\n",
       "      <td>PISA BM25</td>\n",
       "      <td>2528767</td>\n",
       "      <td>nDCG@10</td>\n",
       "      <td>0.763464</td>\n",
       "    </tr>\n",
       "    <tr>\n",
       "      <th>12</th>\n",
       "      <td>PISA BM25</td>\n",
       "      <td>3990512</td>\n",
       "      <td>nDCG@5</td>\n",
       "      <td>0.067827</td>\n",
       "    </tr>\n",
       "    <tr>\n",
       "      <th>13</th>\n",
       "      <td>PISA BM25</td>\n",
       "      <td>3990512</td>\n",
       "      <td>nDCG@10</td>\n",
       "      <td>0.065634</td>\n",
       "    </tr>\n",
       "    <tr>\n",
       "      <th>14</th>\n",
       "      <td>PISA BM25</td>\n",
       "      <td>714612</td>\n",
       "      <td>nDCG@5</td>\n",
       "      <td>0.625023</td>\n",
       "    </tr>\n",
       "    <tr>\n",
       "      <th>15</th>\n",
       "      <td>PISA BM25</td>\n",
       "      <td>714612</td>\n",
       "      <td>nDCG@10</td>\n",
       "      <td>0.602069</td>\n",
       "    </tr>\n",
       "    <tr>\n",
       "      <th>4</th>\n",
       "      <td>Terrier BM25</td>\n",
       "      <td>2528767</td>\n",
       "      <td>nDCG@5</td>\n",
       "      <td>0.882409</td>\n",
       "    </tr>\n",
       "    <tr>\n",
       "      <th>5</th>\n",
       "      <td>Terrier BM25</td>\n",
       "      <td>2528767</td>\n",
       "      <td>nDCG@10</td>\n",
       "      <td>0.668104</td>\n",
       "    </tr>\n",
       "    <tr>\n",
       "      <th>0</th>\n",
       "      <td>Terrier BM25</td>\n",
       "      <td>3990512</td>\n",
       "      <td>nDCG@5</td>\n",
       "      <td>0.000000</td>\n",
       "    </tr>\n",
       "    <tr>\n",
       "      <th>1</th>\n",
       "      <td>Terrier BM25</td>\n",
       "      <td>3990512</td>\n",
       "      <td>nDCG@10</td>\n",
       "      <td>0.074669</td>\n",
       "    </tr>\n",
       "    <tr>\n",
       "      <th>2</th>\n",
       "      <td>Terrier BM25</td>\n",
       "      <td>714612</td>\n",
       "      <td>nDCG@5</td>\n",
       "      <td>0.897880</td>\n",
       "    </tr>\n",
       "    <tr>\n",
       "      <th>3</th>\n",
       "      <td>Terrier BM25</td>\n",
       "      <td>714612</td>\n",
       "      <td>nDCG@10</td>\n",
       "      <td>0.676825</td>\n",
       "    </tr>\n",
       "  </tbody>\n",
       "</table>\n",
       "</div>"
      ],
      "text/plain": [
       "             name      qid  measure     value\n",
       "10  Anserini BM25  2528767   nDCG@5  0.946503\n",
       "11  Anserini BM25  2528767  nDCG@10  0.805926\n",
       "6   Anserini BM25  3990512   nDCG@5  0.000000\n",
       "7   Anserini BM25  3990512  nDCG@10  0.041172\n",
       "8   Anserini BM25   714612   nDCG@5  0.508740\n",
       "9   Anserini BM25   714612  nDCG@10  0.412978\n",
       "16      PISA BM25  2528767   nDCG@5  0.868795\n",
       "17      PISA BM25  2528767  nDCG@10  0.763464\n",
       "12      PISA BM25  3990512   nDCG@5  0.067827\n",
       "13      PISA BM25  3990512  nDCG@10  0.065634\n",
       "14      PISA BM25   714612   nDCG@5  0.625023\n",
       "15      PISA BM25   714612  nDCG@10  0.602069\n",
       "4    Terrier BM25  2528767   nDCG@5  0.882409\n",
       "5    Terrier BM25  2528767  nDCG@10  0.668104\n",
       "0    Terrier BM25  3990512   nDCG@5  0.000000\n",
       "1    Terrier BM25  3990512  nDCG@10  0.074669\n",
       "2    Terrier BM25   714612   nDCG@5  0.897880\n",
       "3    Terrier BM25   714612  nDCG@10  0.676825"
      ]
     },
     "execution_count": 20,
     "metadata": {},
     "output_type": "execute_result"
    }
   ],
   "source": [
    "results = Experiment(\n",
    "    retr_systems=[\n",
    "        terrier_bm25,\n",
    "        anserini_bm25,\n",
    "        pisa_bm25,\n",
    "    ],\n",
    "    topics=dataset.get_topics()[:3],\n",
    "    qrels=dataset.get_qrels(),\n",
    "    eval_metrics=[nDCG @ 10, nDCG @ 5],\n",
    "    names=[\n",
    "        \"Terrier BM25\",\n",
    "        \"Anserini BM25\",\n",
    "        \"PISA BM25\",\n",
    "    ],\n",
    "    perquery=True,\n",
    ")\n",
    "results"
   ]
  },
  {
   "cell_type": "code",
   "execution_count": 22,
   "id": "a96a2915",
   "metadata": {},
   "outputs": [
    {
     "data": {
      "application/vnd.microsoft.datawrangler.viewer.v0+json": {
       "columns": [
        {
         "name": "index",
         "rawType": "int64",
         "type": "integer"
        },
        {
         "name": "timestamp",
         "rawType": "timedelta64[ms]",
         "type": "unknown"
        },
        {
         "name": "value",
         "rawType": "int64",
         "type": "integer"
        },
        {
         "name": "measure",
         "rawType": "object",
         "type": "string"
        },
        {
         "name": "max_value",
         "rawType": "int64",
         "type": "integer"
        },
        {
         "name": "min_value",
         "rawType": "int64",
         "type": "integer"
        },
        {
         "name": "name",
         "rawType": "object",
         "type": "string"
        }
       ],
       "ref": "c6f43a5c-9437-446a-949b-c8fc81b28f74",
       "rows": [
        [
         "0",
         "0 days 00:00:00",
         "0",
         "CPU_USED_PROCESS_PERCENT",
         "200",
         "0",
         "Terrier BM25"
        ],
        [
         "1",
         "0 days 00:00:00.101000",
         "200",
         "CPU_USED_PROCESS_PERCENT",
         "200",
         "0",
         "Terrier BM25"
        ],
        [
         "0",
         "0 days 00:00:00",
         "100",
         "CPU_USED_SYSTEM_PERCENT",
         "100",
         "0",
         "Terrier BM25"
        ],
        [
         "1",
         "0 days 00:00:00.101000",
         "57",
         "CPU_USED_SYSTEM_PERCENT",
         "100",
         "0",
         "Terrier BM25"
        ],
        [
         "0",
         "0 days 00:00:00",
         "1729380",
         "RAM_USED_PROCESS_KB",
         "1729642",
         "0",
         "Terrier BM25"
        ],
        [
         "1",
         "0 days 00:00:00.101000",
         "1729642",
         "RAM_USED_PROCESS_KB",
         "1729642",
         "0",
         "Terrier BM25"
        ],
        [
         "0",
         "0 days 00:00:00",
         "32388",
         "RAM_USED_SYSTEM_MB",
         "32398",
         "0",
         "Terrier BM25"
        ],
        [
         "1",
         "0 days 00:00:00.101000",
         "32398",
         "RAM_USED_SYSTEM_MB",
         "32398",
         "0",
         "Terrier BM25"
        ],
        [
         "0",
         "0 days 00:00:00",
         "0",
         "CPU_USED_PROCESS_PERCENT",
         "64",
         "0",
         "Anserini BM25"
        ],
        [
         "1",
         "0 days 00:00:00.100000",
         "64",
         "CPU_USED_PROCESS_PERCENT",
         "64",
         "0",
         "Anserini BM25"
        ],
        [
         "0",
         "0 days 00:00:00",
         "100",
         "CPU_USED_SYSTEM_PERCENT",
         "100",
         "0",
         "Anserini BM25"
        ],
        [
         "1",
         "0 days 00:00:00.100000",
         "49",
         "CPU_USED_SYSTEM_PERCENT",
         "100",
         "0",
         "Anserini BM25"
        ],
        [
         "0",
         "0 days 00:00:00",
         "1730822",
         "RAM_USED_PROCESS_KB",
         "1802387",
         "0",
         "Anserini BM25"
        ],
        [
         "1",
         "0 days 00:00:00.100000",
         "1802387",
         "RAM_USED_PROCESS_KB",
         "1802387",
         "0",
         "Anserini BM25"
        ],
        [
         "0",
         "0 days 00:00:00",
         "32446",
         "RAM_USED_SYSTEM_MB",
         "32451",
         "0",
         "Anserini BM25"
        ],
        [
         "1",
         "0 days 00:00:00.100000",
         "32451",
         "RAM_USED_SYSTEM_MB",
         "32451",
         "0",
         "Anserini BM25"
        ],
        [
         "0",
         "0 days 00:00:00",
         "0",
         "CPU_USED_PROCESS_PERCENT",
         "0",
         "0",
         "PISA BM25"
        ],
        [
         "0",
         "0 days 00:00:00",
         "100",
         "CPU_USED_SYSTEM_PERCENT",
         "100",
         "0",
         "PISA BM25"
        ],
        [
         "0",
         "0 days 00:00:00",
         "1826373",
         "RAM_USED_PROCESS_KB",
         "1826373",
         "0",
         "PISA BM25"
        ],
        [
         "0",
         "0 days 00:00:00",
         "32474",
         "RAM_USED_SYSTEM_MB",
         "32474",
         "0",
         "PISA BM25"
        ]
       ],
       "shape": {
        "columns": 6,
        "rows": 20
       }
      },
      "text/html": [
       "<div>\n",
       "<style scoped>\n",
       "    .dataframe tbody tr th:only-of-type {\n",
       "        vertical-align: middle;\n",
       "    }\n",
       "\n",
       "    .dataframe tbody tr th {\n",
       "        vertical-align: top;\n",
       "    }\n",
       "\n",
       "    .dataframe thead th {\n",
       "        text-align: right;\n",
       "    }\n",
       "</style>\n",
       "<table border=\"1\" class=\"dataframe\">\n",
       "  <thead>\n",
       "    <tr style=\"text-align: right;\">\n",
       "      <th></th>\n",
       "      <th>timestamp</th>\n",
       "      <th>value</th>\n",
       "      <th>measure</th>\n",
       "      <th>max_value</th>\n",
       "      <th>min_value</th>\n",
       "      <th>name</th>\n",
       "    </tr>\n",
       "  </thead>\n",
       "  <tbody>\n",
       "    <tr>\n",
       "      <th>0</th>\n",
       "      <td>0 days 00:00:00</td>\n",
       "      <td>0</td>\n",
       "      <td>CPU_USED_PROCESS_PERCENT</td>\n",
       "      <td>200</td>\n",
       "      <td>0</td>\n",
       "      <td>Terrier BM25</td>\n",
       "    </tr>\n",
       "    <tr>\n",
       "      <th>1</th>\n",
       "      <td>0 days 00:00:00.101000</td>\n",
       "      <td>200</td>\n",
       "      <td>CPU_USED_PROCESS_PERCENT</td>\n",
       "      <td>200</td>\n",
       "      <td>0</td>\n",
       "      <td>Terrier BM25</td>\n",
       "    </tr>\n",
       "    <tr>\n",
       "      <th>0</th>\n",
       "      <td>0 days 00:00:00</td>\n",
       "      <td>100</td>\n",
       "      <td>CPU_USED_SYSTEM_PERCENT</td>\n",
       "      <td>100</td>\n",
       "      <td>0</td>\n",
       "      <td>Terrier BM25</td>\n",
       "    </tr>\n",
       "    <tr>\n",
       "      <th>1</th>\n",
       "      <td>0 days 00:00:00.101000</td>\n",
       "      <td>57</td>\n",
       "      <td>CPU_USED_SYSTEM_PERCENT</td>\n",
       "      <td>100</td>\n",
       "      <td>0</td>\n",
       "      <td>Terrier BM25</td>\n",
       "    </tr>\n",
       "    <tr>\n",
       "      <th>0</th>\n",
       "      <td>0 days 00:00:00</td>\n",
       "      <td>1729380</td>\n",
       "      <td>RAM_USED_PROCESS_KB</td>\n",
       "      <td>1729642</td>\n",
       "      <td>0</td>\n",
       "      <td>Terrier BM25</td>\n",
       "    </tr>\n",
       "    <tr>\n",
       "      <th>1</th>\n",
       "      <td>0 days 00:00:00.101000</td>\n",
       "      <td>1729642</td>\n",
       "      <td>RAM_USED_PROCESS_KB</td>\n",
       "      <td>1729642</td>\n",
       "      <td>0</td>\n",
       "      <td>Terrier BM25</td>\n",
       "    </tr>\n",
       "    <tr>\n",
       "      <th>0</th>\n",
       "      <td>0 days 00:00:00</td>\n",
       "      <td>32388</td>\n",
       "      <td>RAM_USED_SYSTEM_MB</td>\n",
       "      <td>32398</td>\n",
       "      <td>0</td>\n",
       "      <td>Terrier BM25</td>\n",
       "    </tr>\n",
       "    <tr>\n",
       "      <th>1</th>\n",
       "      <td>0 days 00:00:00.101000</td>\n",
       "      <td>32398</td>\n",
       "      <td>RAM_USED_SYSTEM_MB</td>\n",
       "      <td>32398</td>\n",
       "      <td>0</td>\n",
       "      <td>Terrier BM25</td>\n",
       "    </tr>\n",
       "    <tr>\n",
       "      <th>0</th>\n",
       "      <td>0 days 00:00:00</td>\n",
       "      <td>0</td>\n",
       "      <td>CPU_USED_PROCESS_PERCENT</td>\n",
       "      <td>64</td>\n",
       "      <td>0</td>\n",
       "      <td>Anserini BM25</td>\n",
       "    </tr>\n",
       "    <tr>\n",
       "      <th>1</th>\n",
       "      <td>0 days 00:00:00.100000</td>\n",
       "      <td>64</td>\n",
       "      <td>CPU_USED_PROCESS_PERCENT</td>\n",
       "      <td>64</td>\n",
       "      <td>0</td>\n",
       "      <td>Anserini BM25</td>\n",
       "    </tr>\n",
       "    <tr>\n",
       "      <th>0</th>\n",
       "      <td>0 days 00:00:00</td>\n",
       "      <td>100</td>\n",
       "      <td>CPU_USED_SYSTEM_PERCENT</td>\n",
       "      <td>100</td>\n",
       "      <td>0</td>\n",
       "      <td>Anserini BM25</td>\n",
       "    </tr>\n",
       "    <tr>\n",
       "      <th>1</th>\n",
       "      <td>0 days 00:00:00.100000</td>\n",
       "      <td>49</td>\n",
       "      <td>CPU_USED_SYSTEM_PERCENT</td>\n",
       "      <td>100</td>\n",
       "      <td>0</td>\n",
       "      <td>Anserini BM25</td>\n",
       "    </tr>\n",
       "    <tr>\n",
       "      <th>0</th>\n",
       "      <td>0 days 00:00:00</td>\n",
       "      <td>1730822</td>\n",
       "      <td>RAM_USED_PROCESS_KB</td>\n",
       "      <td>1802387</td>\n",
       "      <td>0</td>\n",
       "      <td>Anserini BM25</td>\n",
       "    </tr>\n",
       "    <tr>\n",
       "      <th>1</th>\n",
       "      <td>0 days 00:00:00.100000</td>\n",
       "      <td>1802387</td>\n",
       "      <td>RAM_USED_PROCESS_KB</td>\n",
       "      <td>1802387</td>\n",
       "      <td>0</td>\n",
       "      <td>Anserini BM25</td>\n",
       "    </tr>\n",
       "    <tr>\n",
       "      <th>0</th>\n",
       "      <td>0 days 00:00:00</td>\n",
       "      <td>32446</td>\n",
       "      <td>RAM_USED_SYSTEM_MB</td>\n",
       "      <td>32451</td>\n",
       "      <td>0</td>\n",
       "      <td>Anserini BM25</td>\n",
       "    </tr>\n",
       "    <tr>\n",
       "      <th>1</th>\n",
       "      <td>0 days 00:00:00.100000</td>\n",
       "      <td>32451</td>\n",
       "      <td>RAM_USED_SYSTEM_MB</td>\n",
       "      <td>32451</td>\n",
       "      <td>0</td>\n",
       "      <td>Anserini BM25</td>\n",
       "    </tr>\n",
       "    <tr>\n",
       "      <th>0</th>\n",
       "      <td>0 days 00:00:00</td>\n",
       "      <td>0</td>\n",
       "      <td>CPU_USED_PROCESS_PERCENT</td>\n",
       "      <td>0</td>\n",
       "      <td>0</td>\n",
       "      <td>PISA BM25</td>\n",
       "    </tr>\n",
       "    <tr>\n",
       "      <th>0</th>\n",
       "      <td>0 days 00:00:00</td>\n",
       "      <td>100</td>\n",
       "      <td>CPU_USED_SYSTEM_PERCENT</td>\n",
       "      <td>100</td>\n",
       "      <td>0</td>\n",
       "      <td>PISA BM25</td>\n",
       "    </tr>\n",
       "    <tr>\n",
       "      <th>0</th>\n",
       "      <td>0 days 00:00:00</td>\n",
       "      <td>1826373</td>\n",
       "      <td>RAM_USED_PROCESS_KB</td>\n",
       "      <td>1826373</td>\n",
       "      <td>0</td>\n",
       "      <td>PISA BM25</td>\n",
       "    </tr>\n",
       "    <tr>\n",
       "      <th>0</th>\n",
       "      <td>0 days 00:00:00</td>\n",
       "      <td>32474</td>\n",
       "      <td>RAM_USED_SYSTEM_MB</td>\n",
       "      <td>32474</td>\n",
       "      <td>0</td>\n",
       "      <td>PISA BM25</td>\n",
       "    </tr>\n",
       "  </tbody>\n",
       "</table>\n",
       "</div>"
      ],
      "text/plain": [
       "               timestamp    value                   measure  max_value  \\\n",
       "0        0 days 00:00:00        0  CPU_USED_PROCESS_PERCENT        200   \n",
       "1 0 days 00:00:00.101000      200  CPU_USED_PROCESS_PERCENT        200   \n",
       "0        0 days 00:00:00      100   CPU_USED_SYSTEM_PERCENT        100   \n",
       "1 0 days 00:00:00.101000       57   CPU_USED_SYSTEM_PERCENT        100   \n",
       "0        0 days 00:00:00  1729380       RAM_USED_PROCESS_KB    1729642   \n",
       "1 0 days 00:00:00.101000  1729642       RAM_USED_PROCESS_KB    1729642   \n",
       "0        0 days 00:00:00    32388        RAM_USED_SYSTEM_MB      32398   \n",
       "1 0 days 00:00:00.101000    32398        RAM_USED_SYSTEM_MB      32398   \n",
       "0        0 days 00:00:00        0  CPU_USED_PROCESS_PERCENT         64   \n",
       "1 0 days 00:00:00.100000       64  CPU_USED_PROCESS_PERCENT         64   \n",
       "0        0 days 00:00:00      100   CPU_USED_SYSTEM_PERCENT        100   \n",
       "1 0 days 00:00:00.100000       49   CPU_USED_SYSTEM_PERCENT        100   \n",
       "0        0 days 00:00:00  1730822       RAM_USED_PROCESS_KB    1802387   \n",
       "1 0 days 00:00:00.100000  1802387       RAM_USED_PROCESS_KB    1802387   \n",
       "0        0 days 00:00:00    32446        RAM_USED_SYSTEM_MB      32451   \n",
       "1 0 days 00:00:00.100000    32451        RAM_USED_SYSTEM_MB      32451   \n",
       "0        0 days 00:00:00        0  CPU_USED_PROCESS_PERCENT          0   \n",
       "0        0 days 00:00:00      100   CPU_USED_SYSTEM_PERCENT        100   \n",
       "0        0 days 00:00:00  1826373       RAM_USED_PROCESS_KB    1826373   \n",
       "0        0 days 00:00:00    32474        RAM_USED_SYSTEM_MB      32474   \n",
       "\n",
       "   min_value           name  \n",
       "0          0   Terrier BM25  \n",
       "1          0   Terrier BM25  \n",
       "0          0   Terrier BM25  \n",
       "1          0   Terrier BM25  \n",
       "0          0   Terrier BM25  \n",
       "1          0   Terrier BM25  \n",
       "0          0   Terrier BM25  \n",
       "1          0   Terrier BM25  \n",
       "0          0  Anserini BM25  \n",
       "1          0  Anserini BM25  \n",
       "0          0  Anserini BM25  \n",
       "1          0  Anserini BM25  \n",
       "0          0  Anserini BM25  \n",
       "1          0  Anserini BM25  \n",
       "0          0  Anserini BM25  \n",
       "1          0  Anserini BM25  \n",
       "0          0      PISA BM25  \n",
       "0          0      PISA BM25  \n",
       "0          0      PISA BM25  \n",
       "0          0      PISA BM25  "
      ]
     },
     "execution_count": 22,
     "metadata": {},
     "output_type": "execute_result"
    }
   ],
   "source": [
    "df_retrieval = concat([\n",
    "    tracking_results_to_df(tracking_results, measure).assign(name=name)\n",
    "    for name, tracking_results in [\n",
    "        (\"Terrier BM25\", terrier_bm25.results),\n",
    "        (\"Anserini BM25\", anserini_bm25.results),\n",
    "        (\"PISA BM25\", pisa_bm25.results),\n",
    "    ]\n",
    "    for measure in [\n",
    "        Measure.CPU_USED_PROCESS_PERCENT,\n",
    "        Measure.CPU_USED_SYSTEM_PERCENT,\n",
    "        Measure.RAM_USED_PROCESS_KB,\n",
    "        Measure.RAM_USED_SYSTEM_MB,\n",
    "    ]\n",
    "])\n",
    "df_retrieval"
   ]
  },
  {
   "cell_type": "markdown",
   "id": "0b131bf2",
   "metadata": {},
   "source": [
    "## Results"
   ]
  },
  {
   "cell_type": "code",
   "execution_count": 25,
   "id": "2198ec21",
   "metadata": {},
   "outputs": [
    {
     "data": {
      "text/plain": [
       "<seaborn.axisgrid.FacetGrid at 0x79127e9cbc90>"
      ]
     },
     "execution_count": 25,
     "metadata": {},
     "output_type": "execute_result"
    },
    {
     "data": {
      "image/png": "[encoded data removed]",
      "text/plain": [
       "<Figure size 1906.12x300 with 4 Axes>"
      ]
     },
     "metadata": {},
     "output_type": "display_data"
    }
   ],
   "source": [
    "plot = FacetGrid(\n",
    "    df_indexing,\n",
    "    col=\"measure\",\n",
    "    hue=\"name\",\n",
    "    sharey=False,\n",
    "    sharex=False,\n",
    "    height=3,\n",
    "    aspect=1.5,\n",
    ")\n",
    "plot.map_dataframe(\n",
    "    lineplot,\n",
    "    x=\"timestamp\",\n",
    "    y=\"value\",\n",
    ")\n",
    "plot.add_legend()\n",
    "plot"
   ]
  },
  {
   "cell_type": "code",
   "execution_count": 26,
   "id": "cb601479",
   "metadata": {},
   "outputs": [
    {
     "data": {
      "text/plain": [
       "<seaborn.axisgrid.FacetGrid at 0x7912944c9e10>"
      ]
     },
     "execution_count": 26,
     "metadata": {},
     "output_type": "execute_result"
    },
    {
     "data": {
      "image/png": "[encoded data removed]",
      "text/plain": [
       "<Figure size 1800x300 with 4 Axes>"
      ]
     },
     "metadata": {},
     "output_type": "display_data"
    }
   ],
   "source": [
    "plot = FacetGrid(\n",
    "    df_retrieval[df_retrieval[\"timestamp\"] <= timedelta()],\n",
    "    col=\"measure\",\n",
    "    hue=\"name\",\n",
    "    sharey=False,\n",
    "    sharex=False,\n",
    "    height=3,\n",
    "    aspect=1.5,\n",
    ")\n",
    "plot.map_dataframe(\n",
    "    barplot,\n",
    "    x=\"name\",\n",
    "    y=\"max_value\",\n",
    "    dodge=True,\n",
    ")\n",
    "# plot.set(yscale=\"log\")\n",
    "plot"
   ]
  },
  {
   "cell_type": "code",
   "execution_count": null,
   "id": "0cc9619f",
   "metadata": {},
   "outputs": [],
   "source": []
  }
 ],
 "metadata": {
  "kernelspec": {
   "display_name": ".venv3.11",
   "language": "python",
   "name": "python3"
  },
  "language_info": {
   "codemirror_mode": {
    "name": "ipython",
    "version": 3
   },
   "file_extension": ".py",
   "mimetype": "text/x-python",
   "name": "python",
   "nbconvert_exporter": "python",
   "pygments_lexer": "ipython3",
   "version": "3.11.12"
  }
 },
 "nbformat": 4,
 "nbformat_minor": 5
}
