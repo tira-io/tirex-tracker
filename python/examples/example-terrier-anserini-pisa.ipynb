{
 "cells": [
  {
   "cell_type": "markdown",
   "id": "734dc5d4",
   "metadata": {},
   "source": [
    "# Example: Measure Indexing and Retrieval Effectiveness of Terrier, Anserini, and PISA"
   ]
  },
  {
   "cell_type": "markdown",
   "id": "d28fa78b",
   "metadata": {},
   "source": [
    "## Imports"
   ]
  },
  {
   "cell_type": "code",
   "execution_count": null,
   "id": "42f43c03",
   "metadata": {},
   "outputs": [],
   "source": [
    "from itertools import islice\n",
    "from pathlib import Path\n",
    "from shutil import rmtree\n",
    "\n",
    "from ir_measures import nDCG\n",
    "from pandas import DataFrame, concat\n",
    "from pyterrier import Indexer, IterDictIndexer, IndexRef, Experiment\n",
    "from pyterrier_anserini import AnseriniIndexer, AnseriniIndex, AnseriniRetriever\n",
    "from pyterrier.datasets import get_dataset\n",
    "from pyterrier.terrier import Retriever\n",
    "from pyterrier_pisa import PisaIndexer, PisaIndex, PisaRetrieve\n",
    "from seaborn import FacetGrid, lineplot\n",
    "\n",
    "from tirex_tracker import tracking, TrackingHandle, Measure\n",
    "from tirex_tracker.pyterrier import TrackedTransformer"
   ]
  },
  {
   "cell_type": "markdown",
   "id": "f4f8baef",
   "metadata": {},
   "source": [
    "## Data"
   ]
  },
  {
   "cell_type": "markdown",
   "id": "81f5ee14",
   "metadata": {},
   "source": [
    "Load the dataset from `ir_datasets`."
   ]
  },
  {
   "cell_type": "code",
   "execution_count": 45,
   "id": "e8580515",
   "metadata": {},
   "outputs": [],
   "source": [
    "dataset = get_dataset(\"irds:antique/test\")"
   ]
  },
  {
   "cell_type": "markdown",
   "id": "4df03897",
   "metadata": {},
   "source": [
    "Show some documents."
   ]
  },
  {
   "cell_type": "code",
   "execution_count": null,
   "id": "e4e2e37e",
   "metadata": {},
   "outputs": [],
   "source": [
    "list(islice(dataset.get_corpus_iter(), 5))"
   ]
  },
  {
   "cell_type": "markdown",
   "id": "5cb80b13",
   "metadata": {},
   "source": [
    "Show the topics."
   ]
  },
  {
   "cell_type": "code",
   "execution_count": null,
   "id": "8519cce7",
   "metadata": {},
   "outputs": [],
   "source": [
    "dataset.get_topics()"
   ]
  },
  {
   "cell_type": "markdown",
   "id": "f4d8050f",
   "metadata": {},
   "source": [
    "Show the qrels."
   ]
  },
  {
   "cell_type": "code",
   "execution_count": null,
   "id": "5ab051ed",
   "metadata": {},
   "outputs": [],
   "source": [
    "dataset.get_qrels()"
   ]
  },
  {
   "cell_type": "markdown",
   "id": "dcb26808",
   "metadata": {},
   "source": [
    "## Indexing"
   ]
  },
  {
   "cell_type": "markdown",
   "id": "979257c1",
   "metadata": {},
   "source": [
    "We will consume the document iterator once to warm the document cache, so that the indexers are not slowed down by document downloads."
   ]
  },
  {
   "cell_type": "code",
   "execution_count": 38,
   "id": "151bb946",
   "metadata": {},
   "outputs": [
    {
     "name": "stderr",
     "output_type": "stream",
     "text": [
      "\n",
      "\n",
      "\n",
      "\n",
      "\n",
      "\n",
      "\u001b[A\u001b[A\u001b[A\u001b[A\u001b[A\u001b[A\n",
      "\n",
      "\n",
      "\n",
      "\n",
      "\n",
      "\u001b[A\u001b[A\u001b[A\u001b[A\u001b[A\u001b[A\n",
      "\n",
      "\n",
      "\n",
      "\n",
      "\n",
      "\u001b[A\u001b[A\u001b[A\u001b[A\u001b[A\u001b[A\n",
      "\n",
      "\n",
      "\n",
      "\n",
      "\n",
      "\u001b[A\u001b[A\u001b[A\u001b[A\u001b[A\u001b[A\n",
      "\n",
      "\n",
      "\n",
      "\n",
      "\n",
      "\u001b[A\u001b[A\u001b[A\u001b[A\u001b[A\u001b[A\n",
      "\n",
      "\n",
      "\n",
      "\n",
      "\n",
      "\u001b[A\u001b[A\u001b[A\u001b[A\u001b[A\u001b[A\n",
      "\n",
      "\n",
      "\n",
      "\n",
      "\n",
      "\u001b[A\u001b[A\u001b[A\u001b[A\u001b[A\u001b[A\n",
      "\n",
      "\n",
      "\n",
      "\n",
      "\n",
      "\u001b[A\u001b[A\u001b[A\u001b[A\u001b[A\u001b[A\n",
      "\n",
      "\n",
      "\n",
      "\n",
      "\n",
      "antique/test documents: 100%|██████████| 403666/403666 [00:00<00:00, 476953.31it/s]\n"
     ]
    }
   ],
   "source": [
    "for _ in dataset.get_corpus_iter():\n",
    "    pass"
   ]
  },
  {
   "cell_type": "markdown",
   "id": "9a6dbd66",
   "metadata": {},
   "source": [
    "### Terrier Indexing"
   ]
  },
  {
   "cell_type": "code",
   "execution_count": null,
   "id": "4bdced75",
   "metadata": {},
   "outputs": [],
   "source": [
    "terrier_index_path = Path(\"./index-terrier\").resolve()\n",
    "print(str(terrier_index_path))\n",
    "if terrier_index_path.exists():\n",
    "    rmtree(terrier_index_path)\n",
    "terrier_indexer = IterDictIndexer(str(terrier_index_path))\n",
    "\n",
    "with tracking() as terrier_indexing_tracking_results:\n",
    "    terrier_index: IndexRef = terrier_indexer.index(dataset.get_corpus_iter()) # type: ignore"
   ]
  },
  {
   "cell_type": "markdown",
   "id": "46e0a61b",
   "metadata": {},
   "source": [
    "### Anserini Indexing"
   ]
  },
  {
   "cell_type": "code",
   "execution_count": null,
   "id": "b58d62dd",
   "metadata": {},
   "outputs": [],
   "source": [
    "anserini_index_path = Path(\"./index-anserini\").resolve()\n",
    "if anserini_index_path.exists():\n",
    "    rmtree(anserini_index_path)\n",
    "anserini_indexer: Indexer = AnseriniIndexer(str(anserini_index_path))\n",
    "\n",
    "with tracking() as anserini_indexing_tracking_results:\n",
    "    anserini_index: AnseriniIndex = anserini_indexer.index(dataset.get_corpus_iter())"
   ]
  },
  {
   "cell_type": "markdown",
   "id": "28ca4ffa",
   "metadata": {},
   "source": [
    "### PISA Indexing"
   ]
  },
  {
   "cell_type": "code",
   "execution_count": null,
   "id": "cf20dcaa",
   "metadata": {},
   "outputs": [],
   "source": [
    "pisa_index_path = Path(\"./index-pisa\").resolve()\n",
    "if pisa_index_path.exists():\n",
    "    rmtree(pisa_index_path)\n",
    "pisa_indexer = PisaIndexer(str(pisa_index_path))\n",
    "with tracking() as pisa_indexing_tracking_results:\n",
    "    pisa_index: PisaIndex = pisa_indexer.index(dataset.get_corpus_iter())"
   ]
  },
  {
   "cell_type": "markdown",
   "id": "7f2ba54e",
   "metadata": {},
   "source": [
    "### Results"
   ]
  },
  {
   "cell_type": "code",
   "execution_count": null,
   "id": "a5fc2d9c",
   "metadata": {},
   "outputs": [],
   "source": [
    "def tracking_results_to_df(\n",
    "    tracking_results: TrackingHandle, measure: Measure\n",
    ") -> DataFrame:\n",
    "    measure_results = tracking_results[measure]\n",
    "    print(f\"Tracking results for {measure}: {measure_results}\")\n",
    "    return DataFrame()"
   ]
  },
  {
   "cell_type": "code",
   "execution_count": null,
   "id": "a818869f",
   "metadata": {},
   "outputs": [],
   "source": [
    "df_indexing = concat([\n",
    "    tracking_results_to_df(tracking_results, measure)\n",
    "    for tracking_results in [\n",
    "        terrier_indexing_tracking_results,\n",
    "        anserini_indexing_tracking_results,\n",
    "        pisa_indexing_tracking_results,\n",
    "    ]\n",
    "    for measure in [\n",
    "        Measure.CPU_USED_PROCESS_PERCENT,\n",
    "        Measure.CPU_USED_SYSTEM_PERCENT,\n",
    "        Measure.RAM_USED_PROCESS_KB,\n",
    "        Measure.RAM_USED_SYSTEM_MB,\n",
    "    ]\n",
    "])"
   ]
  },
  {
   "cell_type": "markdown",
   "id": "6727498d",
   "metadata": {},
   "source": [
    "## Retrieval"
   ]
  },
  {
   "cell_type": "markdown",
   "id": "9740b2b7",
   "metadata": {},
   "source": [
    "Create the BM25 retrievers for Terrier, Anserini, and PISA. Then wrap the retrievers with `TrackedTransformer` to track their execution."
   ]
  },
  {
   "cell_type": "code",
   "execution_count": 56,
   "id": "ac2ff3a9",
   "metadata": {},
   "outputs": [],
   "source": [
    "terrier_bm25 = TrackedTransformer(Retriever(terrier_index, wmodel=\"BM25\"))\n",
    "anserini_bm25: AnseriniRetriever = TrackedTransformer(anserini_index.bm25())\n",
    "pisa_bm25: PisaRetrieve = TrackedTransformer(pisa_index.bm25())"
   ]
  },
  {
   "cell_type": "markdown",
   "id": "3d20eb76",
   "metadata": {},
   "source": [
    "## Experiment"
   ]
  },
  {
   "cell_type": "code",
   "execution_count": 70,
   "id": "37801067",
   "metadata": {},
   "outputs": [
    {
     "name": "stdout",
     "output_type": "stream",
     "text": [
      "Give read access to /sys/class/powercap/intel-rapl/intel-rapl:1/energy_uj\n",
      "Give read access to /sys/class/powercap/intel-rapl/intel-rapl:1/energy_uj\n",
      "Give read access to /sys/class/powercap/intel-rapl/intel-rapl:1/energy_uj\n",
      "Give read access to /sys/class/powercap/intel-rapl/intel-rapl:1/energy_uj\n",
      "Give read access to /sys/class/powercap/intel-rapl/intel-rapl:1/energy_uj\n",
      "Give read access to /sys/class/powercap/intel-rapl/intel-rapl:1/energy_uj\n"
     ]
    },
    {
     "data": {
      "application/vnd.microsoft.datawrangler.viewer.v0+json": {
       "columns": [
        {
         "name": "index",
         "rawType": "int64",
         "type": "integer"
        },
        {
         "name": "name",
         "rawType": "object",
         "type": "string"
        },
        {
         "name": "qid",
         "rawType": "object",
         "type": "string"
        },
        {
         "name": "measure",
         "rawType": "object",
         "type": "string"
        },
        {
         "name": "value",
         "rawType": "float64",
         "type": "float"
        }
       ],
       "ref": "67f233cf-4f64-4943-8287-6a2ccd523d42",
       "rows": [
        [
         "10",
         "Anserini BM25",
         "2528767",
         "nDCG@5",
         "0.946503433816368"
        ],
        [
         "11",
         "Anserini BM25",
         "2528767",
         "nDCG@10",
         "0.8059256891318768"
        ],
        [
         "6",
         "Anserini BM25",
         "3990512",
         "nDCG@5",
         "0.0"
        ],
        [
         "7",
         "Anserini BM25",
         "3990512",
         "nDCG@10",
         "0.041171872556604504"
        ],
        [
         "8",
         "Anserini BM25",
         "714612",
         "nDCG@5",
         "0.5087403079104241"
        ],
        [
         "9",
         "Anserini BM25",
         "714612",
         "nDCG@10",
         "0.4129777437028934"
        ],
        [
         "16",
         "PISA BM25",
         "2528767",
         "nDCG@5",
         "0.8687949224876582"
        ],
        [
         "17",
         "PISA BM25",
         "2528767",
         "nDCG@10",
         "0.76346389169781"
        ],
        [
         "12",
         "PISA BM25",
         "3990512",
         "nDCG@5",
         "0.06782736233947295"
        ],
        [
         "13",
         "PISA BM25",
         "3990512",
         "nDCG@10",
         "0.06563437371751137"
        ],
        [
         "14",
         "PISA BM25",
         "714612",
         "nDCG@5",
         "0.6250229568616719"
        ],
        [
         "15",
         "PISA BM25",
         "714612",
         "nDCG@10",
         "0.6020691603861964"
        ],
        [
         "4",
         "Terrier BM25",
         "2528767",
         "nDCG@5",
         "0.8824086793035105"
        ],
        [
         "5",
         "Terrier BM25",
         "2528767",
         "nDCG@10",
         "0.6681035171306078"
        ],
        [
         "0",
         "Terrier BM25",
         "3990512",
         "nDCG@5",
         "0.0"
        ],
        [
         "1",
         "Terrier BM25",
         "3990512",
         "nDCG@10",
         "0.0746688596785922"
        ],
        [
         "2",
         "Terrier BM25",
         "714612",
         "nDCG@5",
         "0.8978803737831526"
        ],
        [
         "3",
         "Terrier BM25",
         "714612",
         "nDCG@10",
         "0.6768253250058375"
        ]
       ],
       "shape": {
        "columns": 4,
        "rows": 18
       }
      },
      "text/html": [
       "<div>\n",
       "<style scoped>\n",
       "    .dataframe tbody tr th:only-of-type {\n",
       "        vertical-align: middle;\n",
       "    }\n",
       "\n",
       "    .dataframe tbody tr th {\n",
       "        vertical-align: top;\n",
       "    }\n",
       "\n",
       "    .dataframe thead th {\n",
       "        text-align: right;\n",
       "    }\n",
       "</style>\n",
       "<table border=\"1\" class=\"dataframe\">\n",
       "  <thead>\n",
       "    <tr style=\"text-align: right;\">\n",
       "      <th></th>\n",
       "      <th>name</th>\n",
       "      <th>qid</th>\n",
       "      <th>measure</th>\n",
       "      <th>value</th>\n",
       "    </tr>\n",
       "  </thead>\n",
       "  <tbody>\n",
       "    <tr>\n",
       "      <th>10</th>\n",
       "      <td>Anserini BM25</td>\n",
       "      <td>2528767</td>\n",
       "      <td>nDCG@5</td>\n",
       "      <td>0.946503</td>\n",
       "    </tr>\n",
       "    <tr>\n",
       "      <th>11</th>\n",
       "      <td>Anserini BM25</td>\n",
       "      <td>2528767</td>\n",
       "      <td>nDCG@10</td>\n",
       "      <td>0.805926</td>\n",
       "    </tr>\n",
       "    <tr>\n",
       "      <th>6</th>\n",
       "      <td>Anserini BM25</td>\n",
       "      <td>3990512</td>\n",
       "      <td>nDCG@5</td>\n",
       "      <td>0.000000</td>\n",
       "    </tr>\n",
       "    <tr>\n",
       "      <th>7</th>\n",
       "      <td>Anserini BM25</td>\n",
       "      <td>3990512</td>\n",
       "      <td>nDCG@10</td>\n",
       "      <td>0.041172</td>\n",
       "    </tr>\n",
       "    <tr>\n",
       "      <th>8</th>\n",
       "      <td>Anserini BM25</td>\n",
       "      <td>714612</td>\n",
       "      <td>nDCG@5</td>\n",
       "      <td>0.508740</td>\n",
       "    </tr>\n",
       "    <tr>\n",
       "      <th>9</th>\n",
       "      <td>Anserini BM25</td>\n",
       "      <td>714612</td>\n",
       "      <td>nDCG@10</td>\n",
       "      <td>0.412978</td>\n",
       "    </tr>\n",
       "    <tr>\n",
       "      <th>16</th>\n",
       "      <td>PISA BM25</td>\n",
       "      <td>2528767</td>\n",
       "      <td>nDCG@5</td>\n",
       "      <td>0.868795</td>\n",
       "    </tr>\n",
       "    <tr>\n",
       "      <th>17</th>\n",
       "      <td>PISA BM25</td>\n",
       "      <td>2528767</td>\n",
       "      <td>nDCG@10</td>\n",
       "      <td>0.763464</td>\n",
       "    </tr>\n",
       "    <tr>\n",
       "      <th>12</th>\n",
       "      <td>PISA BM25</td>\n",
       "      <td>3990512</td>\n",
       "      <td>nDCG@5</td>\n",
       "      <td>0.067827</td>\n",
       "    </tr>\n",
       "    <tr>\n",
       "      <th>13</th>\n",
       "      <td>PISA BM25</td>\n",
       "      <td>3990512</td>\n",
       "      <td>nDCG@10</td>\n",
       "      <td>0.065634</td>\n",
       "    </tr>\n",
       "    <tr>\n",
       "      <th>14</th>\n",
       "      <td>PISA BM25</td>\n",
       "      <td>714612</td>\n",
       "      <td>nDCG@5</td>\n",
       "      <td>0.625023</td>\n",
       "    </tr>\n",
       "    <tr>\n",
       "      <th>15</th>\n",
       "      <td>PISA BM25</td>\n",
       "      <td>714612</td>\n",
       "      <td>nDCG@10</td>\n",
       "      <td>0.602069</td>\n",
       "    </tr>\n",
       "    <tr>\n",
       "      <th>4</th>\n",
       "      <td>Terrier BM25</td>\n",
       "      <td>2528767</td>\n",
       "      <td>nDCG@5</td>\n",
       "      <td>0.882409</td>\n",
       "    </tr>\n",
       "    <tr>\n",
       "      <th>5</th>\n",
       "      <td>Terrier BM25</td>\n",
       "      <td>2528767</td>\n",
       "      <td>nDCG@10</td>\n",
       "      <td>0.668104</td>\n",
       "    </tr>\n",
       "    <tr>\n",
       "      <th>0</th>\n",
       "      <td>Terrier BM25</td>\n",
       "      <td>3990512</td>\n",
       "      <td>nDCG@5</td>\n",
       "      <td>0.000000</td>\n",
       "    </tr>\n",
       "    <tr>\n",
       "      <th>1</th>\n",
       "      <td>Terrier BM25</td>\n",
       "      <td>3990512</td>\n",
       "      <td>nDCG@10</td>\n",
       "      <td>0.074669</td>\n",
       "    </tr>\n",
       "    <tr>\n",
       "      <th>2</th>\n",
       "      <td>Terrier BM25</td>\n",
       "      <td>714612</td>\n",
       "      <td>nDCG@5</td>\n",
       "      <td>0.897880</td>\n",
       "    </tr>\n",
       "    <tr>\n",
       "      <th>3</th>\n",
       "      <td>Terrier BM25</td>\n",
       "      <td>714612</td>\n",
       "      <td>nDCG@10</td>\n",
       "      <td>0.676825</td>\n",
       "    </tr>\n",
       "  </tbody>\n",
       "</table>\n",
       "</div>"
      ],
      "text/plain": [
       "             name      qid  measure     value\n",
       "10  Anserini BM25  2528767   nDCG@5  0.946503\n",
       "11  Anserini BM25  2528767  nDCG@10  0.805926\n",
       "6   Anserini BM25  3990512   nDCG@5  0.000000\n",
       "7   Anserini BM25  3990512  nDCG@10  0.041172\n",
       "8   Anserini BM25   714612   nDCG@5  0.508740\n",
       "9   Anserini BM25   714612  nDCG@10  0.412978\n",
       "16      PISA BM25  2528767   nDCG@5  0.868795\n",
       "17      PISA BM25  2528767  nDCG@10  0.763464\n",
       "12      PISA BM25  3990512   nDCG@5  0.067827\n",
       "13      PISA BM25  3990512  nDCG@10  0.065634\n",
       "14      PISA BM25   714612   nDCG@5  0.625023\n",
       "15      PISA BM25   714612  nDCG@10  0.602069\n",
       "4    Terrier BM25  2528767   nDCG@5  0.882409\n",
       "5    Terrier BM25  2528767  nDCG@10  0.668104\n",
       "0    Terrier BM25  3990512   nDCG@5  0.000000\n",
       "1    Terrier BM25  3990512  nDCG@10  0.074669\n",
       "2    Terrier BM25   714612   nDCG@5  0.897880\n",
       "3    Terrier BM25   714612  nDCG@10  0.676825"
      ]
     },
     "execution_count": 70,
     "metadata": {},
     "output_type": "execute_result"
    }
   ],
   "source": [
    "results = Experiment(\n",
    "    retr_systems=[\n",
    "        terrier_bm25,\n",
    "        anserini_bm25,\n",
    "        pisa_bm25,\n",
    "    ],\n",
    "    topics=dataset.get_topics()[:3],\n",
    "    qrels=dataset.get_qrels(),\n",
    "    eval_metrics=[nDCG @ 10, nDCG @ 5],\n",
    "    names=[\n",
    "        \"Terrier BM25\",\n",
    "        \"Anserini BM25\",\n",
    "        \"PISA BM25\",\n",
    "    ],\n",
    "    perquery=True,\n",
    ")\n",
    "results"
   ]
  },
  {
   "cell_type": "code",
   "execution_count": null,
   "id": "de3ec89b",
   "metadata": {},
   "outputs": [],
   "source": [
    "def tracking_results_to_df(tracking_results: TrackingHandle):\n",
    "    return DataFrame(\n",
    "        {\n",
    "            \"name\": tracking_results.name,\n",
    "            \"time\": tracking_results.time,\n",
    "            \"type\": tracking_results.type,\n",
    "            \"value\": tracking_results.value,\n",
    "        }\n",
    "    )"
   ]
  }
 ],
 "metadata": {
  "kernelspec": {
   "display_name": ".venv3.11",
   "language": "python",
   "name": "python3"
  },
  "language_info": {
   "codemirror_mode": {
    "name": "ipython",
    "version": 3
   },
   "file_extension": ".py",
   "mimetype": "text/x-python",
   "name": "python",
   "nbconvert_exporter": "python",
   "pygments_lexer": "ipython3",
   "version": "3.11.12"
  }
 },
 "nbformat": 4,
 "nbformat_minor": 5
}
